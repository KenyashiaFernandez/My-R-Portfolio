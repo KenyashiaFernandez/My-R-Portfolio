{
 "cells": [
  {
   "cell_type": "markdown",
   "id": "5af5823d-5166-4831-bb55-a00a2b12f5c5",
   "metadata": {},
   "source": [
    "## Load libraries"
   ]
  },
  {
   "cell_type": "code",
   "execution_count": 1,
   "id": "3b06daa2-d56b-40eb-ba52-f0b8a3115184",
   "metadata": {},
   "outputs": [
    {
     "name": "stderr",
     "output_type": "stream",
     "text": [
      "Removing package from ‘/Library/Frameworks/R.framework/Versions/4.1-arm64/Resources/library’\n",
      "(as ‘lib’ is unspecified)\n",
      "\n"
     ]
    }
   ],
   "source": [
    "remove.packages(\"rlang\")"
   ]
  },
  {
   "cell_type": "code",
   "execution_count": 2,
   "id": "13ceba1e-76a2-4e12-aeb8-390d13e731cb",
   "metadata": {},
   "outputs": [
    {
     "name": "stderr",
     "output_type": "stream",
     "text": [
      "also installing the dependency ‘rlang’\n",
      "\n",
      "\n"
     ]
    },
    {
     "name": "stdout",
     "output_type": "stream",
     "text": [
      "\n",
      "  There are binary versions available but the source versions are later:\n",
      "          binary source needs_compilation\n",
      "rlang      1.0.3  1.0.4              TRUE\n",
      "tidyverse  1.3.1  1.3.2             FALSE\n",
      "\n"
     ]
    },
    {
     "name": "stderr",
     "output_type": "stream",
     "text": [
      "installing the source packages ‘rlang’, ‘tidyverse’\n",
      "\n",
      "\n"
     ]
    },
    {
     "name": "stdout",
     "output_type": "stream",
     "text": [
      "\n",
      "  There is a binary version available but the source version is later:\n",
      "      binary source needs_compilation\n",
      "rlang  1.0.3  1.0.4              TRUE\n",
      "\n"
     ]
    },
    {
     "name": "stderr",
     "output_type": "stream",
     "text": [
      "installing the source package ‘rlang’\n",
      "\n",
      "\n"
     ]
    }
   ],
   "source": [
    "install.packages(\"tidyverse\")\n",
    "install.packages(\"rlang\")"
   ]
  },
  {
   "cell_type": "code",
   "execution_count": 3,
   "id": "4a0c8901-a08a-4144-9562-1f4468045263",
   "metadata": {},
   "outputs": [
    {
     "name": "stderr",
     "output_type": "stream",
     "text": [
      "── \u001b[1mAttaching packages\u001b[22m ─────────────────────────────────────── tidyverse 1.3.2 ──\n",
      "\u001b[32m✔\u001b[39m \u001b[34mggplot2\u001b[39m 3.3.5     \u001b[32m✔\u001b[39m \u001b[34mpurrr  \u001b[39m 0.3.4\n",
      "\u001b[32m✔\u001b[39m \u001b[34mtibble \u001b[39m 3.1.6     \u001b[32m✔\u001b[39m \u001b[34mdplyr  \u001b[39m 1.0.9\n",
      "\u001b[32m✔\u001b[39m \u001b[34mtidyr  \u001b[39m 1.2.0     \u001b[32m✔\u001b[39m \u001b[34mstringr\u001b[39m 1.4.0\n",
      "\u001b[32m✔\u001b[39m \u001b[34mreadr  \u001b[39m 2.1.2     \u001b[32m✔\u001b[39m \u001b[34mforcats\u001b[39m 0.5.1\n",
      "── \u001b[1mConflicts\u001b[22m ────────────────────────────────────────── tidyverse_conflicts() ──\n",
      "\u001b[31m✖\u001b[39m \u001b[34mdplyr\u001b[39m::\u001b[32mfilter()\u001b[39m masks \u001b[34mstats\u001b[39m::filter()\n",
      "\u001b[31m✖\u001b[39m \u001b[34mdplyr\u001b[39m::\u001b[32mlag()\u001b[39m    masks \u001b[34mstats\u001b[39m::lag()\n"
     ]
    }
   ],
   "source": [
    "library(gmodels)\n",
    "library(tidyverse)"
   ]
  },
  {
   "cell_type": "code",
   "execution_count": 4,
   "id": "1052b11b-893b-470d-adef-868f159cb841",
   "metadata": {},
   "outputs": [],
   "source": [
    "loans = read.csv('/Users/kenyashiafernandez/Downloads/loans.csv')"
   ]
  },
  {
   "cell_type": "code",
   "execution_count": 5,
   "id": "012136db-32ed-4342-a7ef-a96594d8426a",
   "metadata": {},
   "outputs": [
    {
     "data": {
      "text/html": [
       "<table class=\"dataframe\">\n",
       "<caption>A data.frame: 6 × 5</caption>\n",
       "<thead>\n",
       "\t<tr><th></th><th scope=col>X</th><th scope=col>term</th><th scope=col>loan_status</th><th scope=col>Date</th><th scope=col>home_ownership</th></tr>\n",
       "\t<tr><th></th><th scope=col>&lt;int&gt;</th><th scope=col>&lt;chr&gt;</th><th scope=col>&lt;chr&gt;</th><th scope=col>&lt;chr&gt;</th><th scope=col>&lt;chr&gt;</th></tr>\n",
       "</thead>\n",
       "<tbody>\n",
       "\t<tr><th scope=row>1</th><td>1</td><td> 36 months</td><td>Fully Paid </td><td>12/1/2011</td><td>RENT</td></tr>\n",
       "\t<tr><th scope=row>2</th><td>2</td><td> 60 months</td><td>Charged Off</td><td>12/1/2011</td><td>RENT</td></tr>\n",
       "\t<tr><th scope=row>3</th><td>3</td><td> 36 months</td><td>Fully Paid </td><td>12/1/2011</td><td>RENT</td></tr>\n",
       "\t<tr><th scope=row>4</th><td>4</td><td> 36 months</td><td>Fully Paid </td><td>12/1/2011</td><td>RENT</td></tr>\n",
       "\t<tr><th scope=row>5</th><td>5</td><td> 60 months</td><td>Current    </td><td>12/1/2011</td><td>RENT</td></tr>\n",
       "\t<tr><th scope=row>6</th><td>6</td><td> 36 months</td><td>Fully Paid </td><td>12/1/2011</td><td>RENT</td></tr>\n",
       "</tbody>\n",
       "</table>\n"
      ],
      "text/latex": [
       "A data.frame: 6 × 5\n",
       "\\begin{tabular}{r|lllll}\n",
       "  & X & term & loan\\_status & Date & home\\_ownership\\\\\n",
       "  & <int> & <chr> & <chr> & <chr> & <chr>\\\\\n",
       "\\hline\n",
       "\t1 & 1 &  36 months & Fully Paid  & 12/1/2011 & RENT\\\\\n",
       "\t2 & 2 &  60 months & Charged Off & 12/1/2011 & RENT\\\\\n",
       "\t3 & 3 &  36 months & Fully Paid  & 12/1/2011 & RENT\\\\\n",
       "\t4 & 4 &  36 months & Fully Paid  & 12/1/2011 & RENT\\\\\n",
       "\t5 & 5 &  60 months & Current     & 12/1/2011 & RENT\\\\\n",
       "\t6 & 6 &  36 months & Fully Paid  & 12/1/2011 & RENT\\\\\n",
       "\\end{tabular}\n"
      ],
      "text/markdown": [
       "\n",
       "A data.frame: 6 × 5\n",
       "\n",
       "| <!--/--> | X &lt;int&gt; | term &lt;chr&gt; | loan_status &lt;chr&gt; | Date &lt;chr&gt; | home_ownership &lt;chr&gt; |\n",
       "|---|---|---|---|---|---|\n",
       "| 1 | 1 |  36 months | Fully Paid  | 12/1/2011 | RENT |\n",
       "| 2 | 2 |  60 months | Charged Off | 12/1/2011 | RENT |\n",
       "| 3 | 3 |  36 months | Fully Paid  | 12/1/2011 | RENT |\n",
       "| 4 | 4 |  36 months | Fully Paid  | 12/1/2011 | RENT |\n",
       "| 5 | 5 |  60 months | Current     | 12/1/2011 | RENT |\n",
       "| 6 | 6 |  36 months | Fully Paid  | 12/1/2011 | RENT |\n",
       "\n"
      ],
      "text/plain": [
       "  X term       loan_status Date      home_ownership\n",
       "1 1  36 months Fully Paid  12/1/2011 RENT          \n",
       "2 2  60 months Charged Off 12/1/2011 RENT          \n",
       "3 3  36 months Fully Paid  12/1/2011 RENT          \n",
       "4 4  36 months Fully Paid  12/1/2011 RENT          \n",
       "5 5  60 months Current     12/1/2011 RENT          \n",
       "6 6  36 months Fully Paid  12/1/2011 RENT          "
      ]
     },
     "metadata": {},
     "output_type": "display_data"
    }
   ],
   "source": [
    "head(loans)"
   ]
  },
  {
   "cell_type": "markdown",
   "id": "2bedeebc-c3b4-4974-9bf2-098090ec337f",
   "metadata": {},
   "source": [
    "## Does the term of the loan influence loan status? If so, how?"
   ]
  },
  {
   "cell_type": "code",
   "execution_count": 6,
   "id": "ed8db3df-79df-466b-99b5-80b34a59adfb",
   "metadata": {},
   "outputs": [
    {
     "name": "stdout",
     "output_type": "stream",
     "text": [
      "\n",
      "   Cell Contents\n",
      "|-------------------------|\n",
      "|                   Count |\n",
      "|         Expected Values |\n",
      "| Chi-square contribution |\n",
      "|             Row Percent |\n",
      "|          Column Percent |\n",
      "|           Total Percent |\n",
      "|            Std Residual |\n",
      "|-------------------------|\n",
      "\n",
      "Total Observations in Table:  21957 \n",
      "\n",
      "             | loans$loan_status \n",
      "  loans$term | Charged Off  |     Current  |  Fully Paid  |   Row Total | \n",
      "-------------|-------------|-------------|-------------|-------------|\n",
      "   36 months |       2029  |          0  |      14964  |      16993  | \n",
      "             |   2540.011  |    388.509  |  14064.480  |             | \n",
      "             |    102.808  |    388.509  |     57.530  |             | \n",
      "             |     11.940% |      0.000% |     88.060% |     77.392% | \n",
      "             |     61.822% |      0.000% |     82.342% |             | \n",
      "             |      9.241% |      0.000% |     68.151% |             | \n",
      "             |    -10.139  |    -19.711  |      7.585  |             | \n",
      "-------------|-------------|-------------|-------------|-------------|\n",
      "   60 months |       1253  |        502  |       3209  |       4964  | \n",
      "             |    741.989  |    113.491  |   4108.520  |             | \n",
      "             |    351.936  |   1329.961  |    196.941  |             | \n",
      "             |     25.242% |     10.113% |     64.645% |     22.608% | \n",
      "             |     38.178% |    100.000% |     17.658% |             | \n",
      "             |      5.707% |      2.286% |     14.615% |             | \n",
      "             |     18.760  |     36.469  |    -14.034  |             | \n",
      "-------------|-------------|-------------|-------------|-------------|\n",
      "Column Total |       3282  |        502  |      18173  |      21957  | \n",
      "             |     14.947% |      2.286% |     82.766% |             | \n",
      "-------------|-------------|-------------|-------------|-------------|\n",
      "\n",
      " \n",
      "Statistics for All Table Factors\n",
      "\n",
      "\n",
      "Pearson's Chi-squared test \n",
      "------------------------------------------------------------\n",
      "Chi^2 =  2427.685     d.f. =  2     p =  0 \n",
      "\n",
      "\n",
      " \n"
     ]
    },
    {
     "ename": "ERROR",
     "evalue": "Error in fisher.test(t, alternative = \"two.sided\"): FEXACT error 6 (f5xact).  LDKEY=484 is too small for this problem: kval=84285355.\nTry increasing the size of the workspace.\n",
     "output_type": "error",
     "traceback": [
      "Error in fisher.test(t, alternative = \"two.sided\"): FEXACT error 6 (f5xact).  LDKEY=484 is too small for this problem: kval=84285355.\nTry increasing the size of the workspace.\nTraceback:\n",
      "1. CrossTable(loans$term, loans$loan_status, fisher = TRUE, chisq = TRUE, \n .     expected = TRUE, sresid = TRUE, format = \"SPSS\")",
      "2. print.statistics()",
      "3. fisher.test(t, alternative = \"two.sided\")"
     ]
    }
   ],
   "source": [
    "CrossTable(loans$term, loans$loan_status, fisher=TRUE, chisq = TRUE, expected = TRUE, sresid=TRUE, format=\"SPSS\")"
   ]
  },
  {
   "cell_type": "markdown",
   "id": "996114c2-4237-4e82-a1d2-442875b91509",
   "metadata": {},
   "source": [
    "## The loan term does influence loan status."
   ]
  },
  {
   "cell_type": "markdown",
   "id": "e1ec9b19-0c7d-4944-ba3c-e656b7dc54e9",
   "metadata": {},
   "source": [
    "## How has the ability to own a home changed from 2007 to 2011?"
   ]
  },
  {
   "cell_type": "code",
   "execution_count": 7,
   "id": "b4ad13fa-205b-4837-b8a6-36945c018c42",
   "metadata": {},
   "outputs": [],
   "source": [
    "loans1 <- separate(loans, Date, c(\"Ignore\", \"Issue_Month\", \"Issue_Year\"), sep=\"/\")"
   ]
  },
  {
   "cell_type": "code",
   "execution_count": 8,
   "id": "f54123a6-b6ca-4524-86fb-8ac47f4ee7b0",
   "metadata": {},
   "outputs": [
    {
     "data": {
      "text/html": [
       "<table class=\"dataframe\">\n",
       "<caption>A data.frame: 6 × 7</caption>\n",
       "<thead>\n",
       "\t<tr><th></th><th scope=col>X</th><th scope=col>term</th><th scope=col>loan_status</th><th scope=col>Ignore</th><th scope=col>Issue_Month</th><th scope=col>Issue_Year</th><th scope=col>home_ownership</th></tr>\n",
       "\t<tr><th></th><th scope=col>&lt;int&gt;</th><th scope=col>&lt;chr&gt;</th><th scope=col>&lt;chr&gt;</th><th scope=col>&lt;chr&gt;</th><th scope=col>&lt;chr&gt;</th><th scope=col>&lt;chr&gt;</th><th scope=col>&lt;chr&gt;</th></tr>\n",
       "</thead>\n",
       "<tbody>\n",
       "\t<tr><th scope=row>1</th><td>1</td><td> 36 months</td><td>Fully Paid </td><td>12</td><td>1</td><td>2011</td><td>RENT</td></tr>\n",
       "\t<tr><th scope=row>2</th><td>2</td><td> 60 months</td><td>Charged Off</td><td>12</td><td>1</td><td>2011</td><td>RENT</td></tr>\n",
       "\t<tr><th scope=row>3</th><td>3</td><td> 36 months</td><td>Fully Paid </td><td>12</td><td>1</td><td>2011</td><td>RENT</td></tr>\n",
       "\t<tr><th scope=row>4</th><td>4</td><td> 36 months</td><td>Fully Paid </td><td>12</td><td>1</td><td>2011</td><td>RENT</td></tr>\n",
       "\t<tr><th scope=row>5</th><td>5</td><td> 60 months</td><td>Current    </td><td>12</td><td>1</td><td>2011</td><td>RENT</td></tr>\n",
       "\t<tr><th scope=row>6</th><td>6</td><td> 36 months</td><td>Fully Paid </td><td>12</td><td>1</td><td>2011</td><td>RENT</td></tr>\n",
       "</tbody>\n",
       "</table>\n"
      ],
      "text/latex": [
       "A data.frame: 6 × 7\n",
       "\\begin{tabular}{r|lllllll}\n",
       "  & X & term & loan\\_status & Ignore & Issue\\_Month & Issue\\_Year & home\\_ownership\\\\\n",
       "  & <int> & <chr> & <chr> & <chr> & <chr> & <chr> & <chr>\\\\\n",
       "\\hline\n",
       "\t1 & 1 &  36 months & Fully Paid  & 12 & 1 & 2011 & RENT\\\\\n",
       "\t2 & 2 &  60 months & Charged Off & 12 & 1 & 2011 & RENT\\\\\n",
       "\t3 & 3 &  36 months & Fully Paid  & 12 & 1 & 2011 & RENT\\\\\n",
       "\t4 & 4 &  36 months & Fully Paid  & 12 & 1 & 2011 & RENT\\\\\n",
       "\t5 & 5 &  60 months & Current     & 12 & 1 & 2011 & RENT\\\\\n",
       "\t6 & 6 &  36 months & Fully Paid  & 12 & 1 & 2011 & RENT\\\\\n",
       "\\end{tabular}\n"
      ],
      "text/markdown": [
       "\n",
       "A data.frame: 6 × 7\n",
       "\n",
       "| <!--/--> | X &lt;int&gt; | term &lt;chr&gt; | loan_status &lt;chr&gt; | Ignore &lt;chr&gt; | Issue_Month &lt;chr&gt; | Issue_Year &lt;chr&gt; | home_ownership &lt;chr&gt; |\n",
       "|---|---|---|---|---|---|---|---|\n",
       "| 1 | 1 |  36 months | Fully Paid  | 12 | 1 | 2011 | RENT |\n",
       "| 2 | 2 |  60 months | Charged Off | 12 | 1 | 2011 | RENT |\n",
       "| 3 | 3 |  36 months | Fully Paid  | 12 | 1 | 2011 | RENT |\n",
       "| 4 | 4 |  36 months | Fully Paid  | 12 | 1 | 2011 | RENT |\n",
       "| 5 | 5 |  60 months | Current     | 12 | 1 | 2011 | RENT |\n",
       "| 6 | 6 |  36 months | Fully Paid  | 12 | 1 | 2011 | RENT |\n",
       "\n"
      ],
      "text/plain": [
       "  X term       loan_status Ignore Issue_Month Issue_Year home_ownership\n",
       "1 1  36 months Fully Paid  12     1           2011       RENT          \n",
       "2 2  60 months Charged Off 12     1           2011       RENT          \n",
       "3 3  36 months Fully Paid  12     1           2011       RENT          \n",
       "4 4  36 months Fully Paid  12     1           2011       RENT          \n",
       "5 5  60 months Current     12     1           2011       RENT          \n",
       "6 6  36 months Fully Paid  12     1           2011       RENT          "
      ]
     },
     "metadata": {},
     "output_type": "display_data"
    }
   ],
   "source": [
    "head(loans1)"
   ]
  },
  {
   "cell_type": "markdown",
   "id": "667d73ec-43d6-4206-9403-aa4d09918466",
   "metadata": {},
   "source": [
    "## Does the term of the loan influence loan status? If so, how?"
   ]
  },
  {
   "cell_type": "code",
   "execution_count": 9,
   "id": "51f9fbc4-9e25-4aea-ba9d-d5fc95946f07",
   "metadata": {},
   "outputs": [
    {
     "name": "stdout",
     "output_type": "stream",
     "text": [
      "\n",
      "   Cell Contents\n",
      "|-------------------------|\n",
      "|                   Count |\n",
      "|         Expected Values |\n",
      "| Chi-square contribution |\n",
      "|             Row Percent |\n",
      "|          Column Percent |\n",
      "|           Total Percent |\n",
      "|            Std Residual |\n",
      "|-------------------------|\n",
      "\n",
      "Total Observations in Table:  21957 \n",
      "\n",
      "             | loans$loan_status \n",
      "  loans$term | Charged Off  |     Current  |  Fully Paid  |   Row Total | \n",
      "-------------|-------------|-------------|-------------|-------------|\n",
      "   36 months |       2029  |          0  |      14964  |      16993  | \n",
      "             |   2540.011  |    388.509  |  14064.480  |             | \n",
      "             |    102.808  |    388.509  |     57.530  |             | \n",
      "             |     11.940% |      0.000% |     88.060% |     77.392% | \n",
      "             |     61.822% |      0.000% |     82.342% |             | \n",
      "             |      9.241% |      0.000% |     68.151% |             | \n",
      "             |    -10.139  |    -19.711  |      7.585  |             | \n",
      "-------------|-------------|-------------|-------------|-------------|\n",
      "   60 months |       1253  |        502  |       3209  |       4964  | \n",
      "             |    741.989  |    113.491  |   4108.520  |             | \n",
      "             |    351.936  |   1329.961  |    196.941  |             | \n",
      "             |     25.242% |     10.113% |     64.645% |     22.608% | \n",
      "             |     38.178% |    100.000% |     17.658% |             | \n",
      "             |      5.707% |      2.286% |     14.615% |             | \n",
      "             |     18.760  |     36.469  |    -14.034  |             | \n",
      "-------------|-------------|-------------|-------------|-------------|\n",
      "Column Total |       3282  |        502  |      18173  |      21957  | \n",
      "             |     14.947% |      2.286% |     82.766% |             | \n",
      "-------------|-------------|-------------|-------------|-------------|\n",
      "\n",
      " \n",
      "Statistics for All Table Factors\n",
      "\n",
      "\n",
      "Pearson's Chi-squared test \n",
      "------------------------------------------------------------\n",
      "Chi^2 =  2427.685     d.f. =  2     p =  0 \n",
      "\n",
      "\n",
      " \n"
     ]
    },
    {
     "ename": "ERROR",
     "evalue": "Error in fisher.test(t, alternative = \"two.sided\"): FEXACT error 6 (f5xact).  LDKEY=484 is too small for this problem: kval=84285355.\nTry increasing the size of the workspace.\n",
     "output_type": "error",
     "traceback": [
      "Error in fisher.test(t, alternative = \"two.sided\"): FEXACT error 6 (f5xact).  LDKEY=484 is too small for this problem: kval=84285355.\nTry increasing the size of the workspace.\nTraceback:\n",
      "1. CrossTable(loans$term, loans$loan_status, fisher = TRUE, chisq = TRUE, \n .     expected = TRUE, sresid = TRUE, format = \"SPSS\")",
      "2. print.statistics()",
      "3. fisher.test(t, alternative = \"two.sided\")"
     ]
    }
   ],
   "source": [
    "CrossTable(loans$term, loans$loan_status, fisher=TRUE, chisq = TRUE, expected = TRUE, sresid=TRUE, format=\"SPSS\")"
   ]
  },
  {
   "cell_type": "markdown",
   "id": "9267840b-b7ba-4234-82f5-ac1de274e926",
   "metadata": {},
   "source": [
    "## p-value is significant. Loan term does influence loan status."
   ]
  },
  {
   "cell_type": "markdown",
   "id": "8905a477-263e-41bd-aa90-a10804051f48",
   "metadata": {},
   "source": [
    "## How has the ability to own a home changed from 2007 to 2011?"
   ]
  },
  {
   "cell_type": "code",
   "execution_count": 10,
   "id": "d4579889-b0fb-40f0-be51-2887b5048a8a",
   "metadata": {},
   "outputs": [],
   "source": [
    "loans1 <- separate(loans, Date, c(\"Ignore\", \"Issue_Month\", \"Issue_Year\"), sep=\"/\")"
   ]
  },
  {
   "cell_type": "code",
   "execution_count": 11,
   "id": "da5a931e-b3b0-4d35-a8fc-8b746265330e",
   "metadata": {},
   "outputs": [
    {
     "data": {
      "text/html": [
       "<table class=\"dataframe\">\n",
       "<caption>A data.frame: 6 × 7</caption>\n",
       "<thead>\n",
       "\t<tr><th></th><th scope=col>X</th><th scope=col>term</th><th scope=col>loan_status</th><th scope=col>Ignore</th><th scope=col>Issue_Month</th><th scope=col>Issue_Year</th><th scope=col>home_ownership</th></tr>\n",
       "\t<tr><th></th><th scope=col>&lt;int&gt;</th><th scope=col>&lt;chr&gt;</th><th scope=col>&lt;chr&gt;</th><th scope=col>&lt;chr&gt;</th><th scope=col>&lt;chr&gt;</th><th scope=col>&lt;chr&gt;</th><th scope=col>&lt;chr&gt;</th></tr>\n",
       "</thead>\n",
       "<tbody>\n",
       "\t<tr><th scope=row>1</th><td>1</td><td> 36 months</td><td>Fully Paid </td><td>12</td><td>1</td><td>2011</td><td>RENT</td></tr>\n",
       "\t<tr><th scope=row>2</th><td>2</td><td> 60 months</td><td>Charged Off</td><td>12</td><td>1</td><td>2011</td><td>RENT</td></tr>\n",
       "\t<tr><th scope=row>3</th><td>3</td><td> 36 months</td><td>Fully Paid </td><td>12</td><td>1</td><td>2011</td><td>RENT</td></tr>\n",
       "\t<tr><th scope=row>4</th><td>4</td><td> 36 months</td><td>Fully Paid </td><td>12</td><td>1</td><td>2011</td><td>RENT</td></tr>\n",
       "\t<tr><th scope=row>5</th><td>5</td><td> 60 months</td><td>Current    </td><td>12</td><td>1</td><td>2011</td><td>RENT</td></tr>\n",
       "\t<tr><th scope=row>6</th><td>6</td><td> 36 months</td><td>Fully Paid </td><td>12</td><td>1</td><td>2011</td><td>RENT</td></tr>\n",
       "</tbody>\n",
       "</table>\n"
      ],
      "text/latex": [
       "A data.frame: 6 × 7\n",
       "\\begin{tabular}{r|lllllll}\n",
       "  & X & term & loan\\_status & Ignore & Issue\\_Month & Issue\\_Year & home\\_ownership\\\\\n",
       "  & <int> & <chr> & <chr> & <chr> & <chr> & <chr> & <chr>\\\\\n",
       "\\hline\n",
       "\t1 & 1 &  36 months & Fully Paid  & 12 & 1 & 2011 & RENT\\\\\n",
       "\t2 & 2 &  60 months & Charged Off & 12 & 1 & 2011 & RENT\\\\\n",
       "\t3 & 3 &  36 months & Fully Paid  & 12 & 1 & 2011 & RENT\\\\\n",
       "\t4 & 4 &  36 months & Fully Paid  & 12 & 1 & 2011 & RENT\\\\\n",
       "\t5 & 5 &  60 months & Current     & 12 & 1 & 2011 & RENT\\\\\n",
       "\t6 & 6 &  36 months & Fully Paid  & 12 & 1 & 2011 & RENT\\\\\n",
       "\\end{tabular}\n"
      ],
      "text/markdown": [
       "\n",
       "A data.frame: 6 × 7\n",
       "\n",
       "| <!--/--> | X &lt;int&gt; | term &lt;chr&gt; | loan_status &lt;chr&gt; | Ignore &lt;chr&gt; | Issue_Month &lt;chr&gt; | Issue_Year &lt;chr&gt; | home_ownership &lt;chr&gt; |\n",
       "|---|---|---|---|---|---|---|---|\n",
       "| 1 | 1 |  36 months | Fully Paid  | 12 | 1 | 2011 | RENT |\n",
       "| 2 | 2 |  60 months | Charged Off | 12 | 1 | 2011 | RENT |\n",
       "| 3 | 3 |  36 months | Fully Paid  | 12 | 1 | 2011 | RENT |\n",
       "| 4 | 4 |  36 months | Fully Paid  | 12 | 1 | 2011 | RENT |\n",
       "| 5 | 5 |  60 months | Current     | 12 | 1 | 2011 | RENT |\n",
       "| 6 | 6 |  36 months | Fully Paid  | 12 | 1 | 2011 | RENT |\n",
       "\n"
      ],
      "text/plain": [
       "  X term       loan_status Ignore Issue_Month Issue_Year home_ownership\n",
       "1 1  36 months Fully Paid  12     1           2011       RENT          \n",
       "2 2  60 months Charged Off 12     1           2011       RENT          \n",
       "3 3  36 months Fully Paid  12     1           2011       RENT          \n",
       "4 4  36 months Fully Paid  12     1           2011       RENT          \n",
       "5 5  60 months Current     12     1           2011       RENT          \n",
       "6 6  36 months Fully Paid  12     1           2011       RENT          "
      ]
     },
     "metadata": {},
     "output_type": "display_data"
    }
   ],
   "source": [
    "head(loans1)"
   ]
  },
  {
   "cell_type": "code",
   "execution_count": 12,
   "id": "28a10005-588b-4976-b6af-9752dc13d022",
   "metadata": {},
   "outputs": [],
   "source": [
    "loans1$Issue_YearR <- NA\n",
    "loans1$Issue_YearR[loans1$Issue_Year == \"2007\"] <- 0\n",
    "loans1$Issue_YearR[loans1$Issue_Year == \"2011\"] <- 1"
   ]
  },
  {
   "cell_type": "code",
   "execution_count": 13,
   "id": "49848a85-afa6-4285-9d40-00108c0c06f0",
   "metadata": {},
   "outputs": [],
   "source": [
    "loans1$RentvOwn <- NA\n",
    "loans1$RentvOwn[loans1$home_ownership == \"RENT\"] <- 0\n",
    "loans1$RentvOwn[loans1$home_ownership == \"OWN\"] <- 1"
   ]
  },
  {
   "cell_type": "code",
   "execution_count": 14,
   "id": "172748ec-a04d-495e-8076-d6e4f394385d",
   "metadata": {},
   "outputs": [
    {
     "data": {
      "text/html": [
       "<table class=\"dataframe\">\n",
       "<caption>A data.frame: 6 × 9</caption>\n",
       "<thead>\n",
       "\t<tr><th></th><th scope=col>X</th><th scope=col>term</th><th scope=col>loan_status</th><th scope=col>Ignore</th><th scope=col>Issue_Month</th><th scope=col>Issue_Year</th><th scope=col>home_ownership</th><th scope=col>Issue_YearR</th><th scope=col>RentvOwn</th></tr>\n",
       "\t<tr><th></th><th scope=col>&lt;int&gt;</th><th scope=col>&lt;chr&gt;</th><th scope=col>&lt;chr&gt;</th><th scope=col>&lt;chr&gt;</th><th scope=col>&lt;chr&gt;</th><th scope=col>&lt;chr&gt;</th><th scope=col>&lt;chr&gt;</th><th scope=col>&lt;dbl&gt;</th><th scope=col>&lt;dbl&gt;</th></tr>\n",
       "</thead>\n",
       "<tbody>\n",
       "\t<tr><th scope=row>1</th><td>1</td><td> 36 months</td><td>Fully Paid </td><td>12</td><td>1</td><td>2011</td><td>RENT</td><td>1</td><td>0</td></tr>\n",
       "\t<tr><th scope=row>2</th><td>2</td><td> 60 months</td><td>Charged Off</td><td>12</td><td>1</td><td>2011</td><td>RENT</td><td>1</td><td>0</td></tr>\n",
       "\t<tr><th scope=row>3</th><td>3</td><td> 36 months</td><td>Fully Paid </td><td>12</td><td>1</td><td>2011</td><td>RENT</td><td>1</td><td>0</td></tr>\n",
       "\t<tr><th scope=row>4</th><td>4</td><td> 36 months</td><td>Fully Paid </td><td>12</td><td>1</td><td>2011</td><td>RENT</td><td>1</td><td>0</td></tr>\n",
       "\t<tr><th scope=row>5</th><td>5</td><td> 60 months</td><td>Current    </td><td>12</td><td>1</td><td>2011</td><td>RENT</td><td>1</td><td>0</td></tr>\n",
       "\t<tr><th scope=row>6</th><td>6</td><td> 36 months</td><td>Fully Paid </td><td>12</td><td>1</td><td>2011</td><td>RENT</td><td>1</td><td>0</td></tr>\n",
       "</tbody>\n",
       "</table>\n"
      ],
      "text/latex": [
       "A data.frame: 6 × 9\n",
       "\\begin{tabular}{r|lllllllll}\n",
       "  & X & term & loan\\_status & Ignore & Issue\\_Month & Issue\\_Year & home\\_ownership & Issue\\_YearR & RentvOwn\\\\\n",
       "  & <int> & <chr> & <chr> & <chr> & <chr> & <chr> & <chr> & <dbl> & <dbl>\\\\\n",
       "\\hline\n",
       "\t1 & 1 &  36 months & Fully Paid  & 12 & 1 & 2011 & RENT & 1 & 0\\\\\n",
       "\t2 & 2 &  60 months & Charged Off & 12 & 1 & 2011 & RENT & 1 & 0\\\\\n",
       "\t3 & 3 &  36 months & Fully Paid  & 12 & 1 & 2011 & RENT & 1 & 0\\\\\n",
       "\t4 & 4 &  36 months & Fully Paid  & 12 & 1 & 2011 & RENT & 1 & 0\\\\\n",
       "\t5 & 5 &  60 months & Current     & 12 & 1 & 2011 & RENT & 1 & 0\\\\\n",
       "\t6 & 6 &  36 months & Fully Paid  & 12 & 1 & 2011 & RENT & 1 & 0\\\\\n",
       "\\end{tabular}\n"
      ],
      "text/markdown": [
       "\n",
       "A data.frame: 6 × 9\n",
       "\n",
       "| <!--/--> | X &lt;int&gt; | term &lt;chr&gt; | loan_status &lt;chr&gt; | Ignore &lt;chr&gt; | Issue_Month &lt;chr&gt; | Issue_Year &lt;chr&gt; | home_ownership &lt;chr&gt; | Issue_YearR &lt;dbl&gt; | RentvOwn &lt;dbl&gt; |\n",
       "|---|---|---|---|---|---|---|---|---|---|\n",
       "| 1 | 1 |  36 months | Fully Paid  | 12 | 1 | 2011 | RENT | 1 | 0 |\n",
       "| 2 | 2 |  60 months | Charged Off | 12 | 1 | 2011 | RENT | 1 | 0 |\n",
       "| 3 | 3 |  36 months | Fully Paid  | 12 | 1 | 2011 | RENT | 1 | 0 |\n",
       "| 4 | 4 |  36 months | Fully Paid  | 12 | 1 | 2011 | RENT | 1 | 0 |\n",
       "| 5 | 5 |  60 months | Current     | 12 | 1 | 2011 | RENT | 1 | 0 |\n",
       "| 6 | 6 |  36 months | Fully Paid  | 12 | 1 | 2011 | RENT | 1 | 0 |\n",
       "\n"
      ],
      "text/plain": [
       "  X term       loan_status Ignore Issue_Month Issue_Year home_ownership\n",
       "1 1  36 months Fully Paid  12     1           2011       RENT          \n",
       "2 2  60 months Charged Off 12     1           2011       RENT          \n",
       "3 3  36 months Fully Paid  12     1           2011       RENT          \n",
       "4 4  36 months Fully Paid  12     1           2011       RENT          \n",
       "5 5  60 months Current     12     1           2011       RENT          \n",
       "6 6  36 months Fully Paid  12     1           2011       RENT          \n",
       "  Issue_YearR RentvOwn\n",
       "1 1           0       \n",
       "2 1           0       \n",
       "3 1           0       \n",
       "4 1           0       \n",
       "5 1           0       \n",
       "6 1           0       "
      ]
     },
     "metadata": {},
     "output_type": "display_data"
    }
   ],
   "source": [
    "head(loans1)"
   ]
  },
  {
   "cell_type": "code",
   "execution_count": 15,
   "id": "fa2af3e8-ab17-460b-b0fa-78532bc35c0a",
   "metadata": {},
   "outputs": [
    {
     "ename": "ERROR",
     "evalue": "Error in CrossTable(loans1$RentvOwn, loans1$Issue_MonthR, fisher = TRUE, : x and y must have the same length\n",
     "output_type": "error",
     "traceback": [
      "Error in CrossTable(loans1$RentvOwn, loans1$Issue_MonthR, fisher = TRUE, : x and y must have the same length\nTraceback:\n",
      "1. CrossTable(loans1$RentvOwn, loans1$Issue_MonthR, fisher = TRUE, \n .     chisq = TRUE, mcnemar = TRUE, expected = TRUE, sresid = TRUE, \n .     format = \"SPSS\")",
      "2. stop(\"x and y must have the same length\")"
     ]
    }
   ],
   "source": [
    "CrossTable(loans1$RentvOwn, loans1$Issue_MonthR, fisher=TRUE, chisq = TRUE, mcnemar = TRUE, expected = TRUE, sresid=TRUE, format=\"SPSS\")"
   ]
  },
  {
   "cell_type": "markdown",
   "id": "3d14faeb-6a69-4359-9245-cdec5aab6ecb",
   "metadata": {},
   "source": [
    "### Goodness of Fit Chi-Square"
   ]
  },
  {
   "cell_type": "code",
   "execution_count": 16,
   "id": "abfe07cb-e4ab-43a4-8c10-3fb8219ba91c",
   "metadata": {},
   "outputs": [
    {
     "data": {
      "text/html": [
       "<table class=\"dataframe\">\n",
       "<caption>A tibble: 3 × 2</caption>\n",
       "<thead>\n",
       "\t<tr><th scope=col>loan_status</th><th scope=col>count</th></tr>\n",
       "\t<tr><th scope=col>&lt;chr&gt;</th><th scope=col>&lt;int&gt;</th></tr>\n",
       "</thead>\n",
       "<tbody>\n",
       "\t<tr><td>Charged Off</td><td> 3282</td></tr>\n",
       "\t<tr><td>Current    </td><td>  502</td></tr>\n",
       "\t<tr><td>Fully Paid </td><td>18173</td></tr>\n",
       "</tbody>\n",
       "</table>\n"
      ],
      "text/latex": [
       "A tibble: 3 × 2\n",
       "\\begin{tabular}{ll}\n",
       " loan\\_status & count\\\\\n",
       " <chr> & <int>\\\\\n",
       "\\hline\n",
       "\t Charged Off &  3282\\\\\n",
       "\t Current     &   502\\\\\n",
       "\t Fully Paid  & 18173\\\\\n",
       "\\end{tabular}\n"
      ],
      "text/markdown": [
       "\n",
       "A tibble: 3 × 2\n",
       "\n",
       "| loan_status &lt;chr&gt; | count &lt;int&gt; |\n",
       "|---|---|\n",
       "| Charged Off |  3282 |\n",
       "| Current     |   502 |\n",
       "| Fully Paid  | 18173 |\n",
       "\n"
      ],
      "text/plain": [
       "  loan_status count\n",
       "1 Charged Off  3282\n",
       "2 Current       502\n",
       "3 Fully Paid  18173"
      ]
     },
     "metadata": {},
     "output_type": "display_data"
    }
   ],
   "source": [
    "loans %>% group_by(loan_status) %>% summarize(count=n())"
   ]
  },
  {
   "cell_type": "code",
   "execution_count": 17,
   "id": "ede438af-862a-4f66-90ef-a6d25cccd2b9",
   "metadata": {},
   "outputs": [],
   "source": [
    "observed = c(3382, 502, 18173)"
   ]
  },
  {
   "cell_type": "code",
   "execution_count": 18,
   "id": "aea6e6d6-9bcb-4b07-bf37-1138dca9ab66",
   "metadata": {},
   "outputs": [],
   "source": [
    "expected = c(0.1,0.75,0.15)"
   ]
  },
  {
   "cell_type": "code",
   "execution_count": 19,
   "id": "363b74af-c17b-4ae4-858e-2da2d8e76530",
   "metadata": {},
   "outputs": [
    {
     "data": {
      "text/plain": [
       "\n",
       "\tChi-squared test for given probabilities\n",
       "\n",
       "data:  observed\n",
       "X-squared = 82963, df = 2, p-value < 2.2e-16\n"
      ]
     },
     "metadata": {},
     "output_type": "display_data"
    }
   ],
   "source": [
    "chisq.test(x = observed, p = expected)"
   ]
  },
  {
   "cell_type": "markdown",
   "id": "4d335a74-671f-445b-bc92-fa1642c1c4c6",
   "metadata": {},
   "source": [
    "### the p-value shows that there is significant difference between our sample and population"
   ]
  },
  {
   "cell_type": "code",
   "execution_count": null,
   "id": "f441e49e-c508-49df-9e9c-d87847b0fd4d",
   "metadata": {},
   "outputs": [],
   "source": []
  }
 ],
 "metadata": {
  "kernelspec": {
   "display_name": "R",
   "language": "R",
   "name": "ir"
  },
  "language_info": {
   "codemirror_mode": "r",
   "file_extension": ".r",
   "mimetype": "text/x-r-source",
   "name": "R",
   "pygments_lexer": "r",
   "version": "4.1.2"
  }
 },
 "nbformat": 4,
 "nbformat_minor": 5
}
