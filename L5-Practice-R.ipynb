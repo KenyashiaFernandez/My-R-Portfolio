{
 "cells": [
  {
   "cell_type": "markdown",
   "id": "55015ab0-4698-4c63-aaad-a0bcfe4c538c",
   "metadata": {},
   "source": [
    "### Generating random numbers in R"
   ]
  },
  {
   "cell_type": "code",
   "execution_count": 2,
   "id": "65d9e48e-c6eb-43b5-840b-a4a8699a8148",
   "metadata": {},
   "outputs": [
    {
     "data": {
      "text/html": [
       "<style>\n",
       ".list-inline {list-style: none; margin:0; padding: 0}\n",
       ".list-inline>li {display: inline-block}\n",
       ".list-inline>li:not(:last-child)::after {content: \"\\00b7\"; padding: 0 .5ex}\n",
       "</style>\n",
       "<ol class=list-inline><li>0.438954453216866</li><li>0.688182513229549</li><li>0.755358062218875</li><li>0.832150441128761</li><li>0.204551678616554</li><li>0.979907042114064</li><li>0.310081675183028</li><li>0.418259271420538</li><li>0.555662698112428</li><li>0.627681217156351</li><li>0.979204127099365</li><li>0.967845792183653</li><li>0.984767551533878</li><li>0.998266803333536</li><li>0.882104184478521</li></ol>\n"
      ],
      "text/latex": [
       "\\begin{enumerate*}\n",
       "\\item 0.438954453216866\n",
       "\\item 0.688182513229549\n",
       "\\item 0.755358062218875\n",
       "\\item 0.832150441128761\n",
       "\\item 0.204551678616554\n",
       "\\item 0.979907042114064\n",
       "\\item 0.310081675183028\n",
       "\\item 0.418259271420538\n",
       "\\item 0.555662698112428\n",
       "\\item 0.627681217156351\n",
       "\\item 0.979204127099365\n",
       "\\item 0.967845792183653\n",
       "\\item 0.984767551533878\n",
       "\\item 0.998266803333536\n",
       "\\item 0.882104184478521\n",
       "\\end{enumerate*}\n"
      ],
      "text/markdown": [
       "1. 0.438954453216866\n",
       "2. 0.688182513229549\n",
       "3. 0.755358062218875\n",
       "4. 0.832150441128761\n",
       "5. 0.204551678616554\n",
       "6. 0.979907042114064\n",
       "7. 0.310081675183028\n",
       "8. 0.418259271420538\n",
       "9. 0.555662698112428\n",
       "10. 0.627681217156351\n",
       "11. 0.979204127099365\n",
       "12. 0.967845792183653\n",
       "13. 0.984767551533878\n",
       "14. 0.998266803333536\n",
       "15. 0.882104184478521\n",
       "\n",
       "\n"
      ],
      "text/plain": [
       " [1] 0.4389545 0.6881825 0.7553581 0.8321504 0.2045517 0.9799070 0.3100817\n",
       " [8] 0.4182593 0.5556627 0.6276812 0.9792041 0.9678458 0.9847676 0.9982668\n",
       "[15] 0.8821042"
      ]
     },
     "metadata": {},
     "output_type": "display_data"
    }
   ],
   "source": [
    "runif(15)"
   ]
  },
  {
   "cell_type": "code",
   "execution_count": 3,
   "id": "7df0dac9-9867-4ac1-8077-36037afba57a",
   "metadata": {},
   "outputs": [
    {
     "data": {
      "text/html": [
       "<style>\n",
       ".list-inline {list-style: none; margin:0; padding: 0}\n",
       ".list-inline>li {display: inline-block}\n",
       ".list-inline>li:not(:last-child)::after {content: \"\\00b7\"; padding: 0 .5ex}\n",
       "</style>\n",
       "<ol class=list-inline><li>17.9883070383221</li><li>14.8842254951596</li><li>14.6226461678743</li><li>19.9713975954801</li><li>14.7166673615575</li><li>15.4210614003241</li><li>18.2016465067863</li><li>19.5375366117805</li></ol>\n"
      ],
      "text/latex": [
       "\\begin{enumerate*}\n",
       "\\item 17.9883070383221\n",
       "\\item 14.8842254951596\n",
       "\\item 14.6226461678743\n",
       "\\item 19.9713975954801\n",
       "\\item 14.7166673615575\n",
       "\\item 15.4210614003241\n",
       "\\item 18.2016465067863\n",
       "\\item 19.5375366117805\n",
       "\\end{enumerate*}\n"
      ],
      "text/markdown": [
       "1. 17.9883070383221\n",
       "2. 14.8842254951596\n",
       "3. 14.6226461678743\n",
       "4. 19.9713975954801\n",
       "5. 14.7166673615575\n",
       "6. 15.4210614003241\n",
       "7. 18.2016465067863\n",
       "8. 19.5375366117805\n",
       "\n",
       "\n"
      ],
      "text/plain": [
       "[1] 17.98831 14.88423 14.62265 19.97140 14.71667 15.42106 18.20165 19.53754"
      ]
     },
     "metadata": {},
     "output_type": "display_data"
    }
   ],
   "source": [
    "runif(8, 12, 20)"
   ]
  },
  {
   "cell_type": "markdown",
   "id": "bad6d128-bee0-45c5-b522-0d45a0eaf33a",
   "metadata": {},
   "source": [
    "### Random numbers - Normal distribution"
   ]
  },
  {
   "cell_type": "code",
   "execution_count": 5,
   "id": "6ee3e014-8628-4e31-8a86-6b57c69f73b6",
   "metadata": {},
   "outputs": [
    {
     "name": "stdout",
     "output_type": "stream",
     "text": [
      " [1] 39.51102 46.67783 34.50142 39.34671 28.69224 38.81555 48.93256 36.69967\n",
      " [9] 28.49594 35.38860 32.24696 30.95253 34.41826 35.12867 27.43120 31.73732\n",
      "[17] 33.75169 25.18058 36.31851 37.15803\n"
     ]
    }
   ],
   "source": [
    "x = rnorm(20, 35, 7)\n",
    "print(x)"
   ]
  },
  {
   "cell_type": "code",
   "execution_count": null,
   "id": "3bb4faed-947f-4b6f-885e-1b3d9c7d765c",
   "metadata": {},
   "outputs": [],
   "source": []
  }
 ],
 "metadata": {
  "kernelspec": {
   "display_name": "R",
   "language": "R",
   "name": "ir"
  },
  "language_info": {
   "codemirror_mode": "r",
   "file_extension": ".r",
   "mimetype": "text/x-r-source",
   "name": "R",
   "pygments_lexer": "r",
   "version": "4.1.2"
  }
 },
 "nbformat": 4,
 "nbformat_minor": 5
}
