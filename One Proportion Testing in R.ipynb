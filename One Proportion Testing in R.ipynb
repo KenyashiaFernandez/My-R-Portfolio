{
 "cells": [
  {
   "cell_type": "markdown",
   "id": "1876a3d1-08a9-47dc-9e92-6f733dee75cb",
   "metadata": {},
   "source": [
    "### One portion testing"
   ]
  },
  {
   "cell_type": "code",
   "execution_count": 1,
   "id": "bb4d6773-e161-482d-8ea6-0c87b827b495",
   "metadata": {},
   "outputs": [
    {
     "data": {
      "text/plain": [
       "\n",
       "\t1-sample proportions test without continuity correction\n",
       "\n",
       "data:  15 out of 43, null probability 0.5\n",
       "X-squared = 3.9302, df = 1, p-value = 0.04743\n",
       "alternative hypothesis: true p is not equal to 0.5\n",
       "95 percent confidence interval:\n",
       " 0.2241859 0.4982822\n",
       "sample estimates:\n",
       "        p \n",
       "0.3488372 \n"
      ]
     },
     "metadata": {},
     "output_type": "display_data"
    }
   ],
   "source": [
    "prop.test(x = 15, n = 43, p = 0.5, alternative = \"two.sided\", correct = FALSE)"
   ]
  },
  {
   "cell_type": "markdown",
   "id": "4275c759-f302-4c15-8258-eaf75922dcee",
   "metadata": {},
   "source": [
    "### Two Proportion Testing"
   ]
  },
  {
   "cell_type": "code",
   "execution_count": 2,
   "id": "b6659fac-dc29-461c-bd1a-6314c6d93c59",
   "metadata": {},
   "outputs": [
    {
     "data": {
      "text/plain": [
       "\n",
       "\t2-sample test for equality of proportions with continuity correction\n",
       "\n",
       "data:  c(7, 12) out of c(15, 28)\n",
       "X-squared = 7.5808e-32, df = 1, p-value = 1\n",
       "alternative hypothesis: two.sided\n",
       "95 percent confidence interval:\n",
       " -0.3119912  0.3881817\n",
       "sample estimates:\n",
       "   prop 1    prop 2 \n",
       "0.4666667 0.4285714 \n"
      ]
     },
     "metadata": {},
     "output_type": "display_data"
    }
   ],
   "source": [
    "prop.test(x = c(7, 12), n = c(15, 28),\n",
    "          alternative = \"two.sided\")"
   ]
  },
  {
   "cell_type": "markdown",
   "id": "e4851f32-e635-46a9-950f-bcbb90495643",
   "metadata": {},
   "source": [
    "### Independent Chi-Squares in R"
   ]
  },
  {
   "cell_type": "markdown",
   "id": "d608c4fe-6926-474c-865d-6ad49f7aa756",
   "metadata": {},
   "source": [
    "#### Load Librarys"
   ]
  },
  {
   "cell_type": "code",
   "execution_count": 9,
   "id": "d5f87a75-4723-444e-aa14-23cd58839298",
   "metadata": {},
   "outputs": [
    {
     "name": "stdout",
     "output_type": "stream",
     "text": [
      "\n",
      "The downloaded binary packages are in\n",
      "\t/var/folders/7y/95y2flc95xd_kqlcm2mtqjp00000gn/T//RtmpUa18Pl/downloaded_packages\n"
     ]
    },
    {
     "name": "stderr",
     "output_type": "stream",
     "text": [
      "also installing the dependencies ‘vroom’, ‘tzdb’\n",
      "\n",
      "\n"
     ]
    },
    {
     "name": "stdout",
     "output_type": "stream",
     "text": [
      "\n",
      "The downloaded binary packages are in\n",
      "\t/var/folders/7y/95y2flc95xd_kqlcm2mtqjp00000gn/T//RtmpUa18Pl/downloaded_packages\n"
     ]
    }
   ],
   "source": [
    "install.packages(\"gmodels\")\n",
    "library(\"gmodels\")\n",
    "install.packages(\"readr\")\n",
    "library(readr)"
   ]
  },
  {
   "cell_type": "code",
   "execution_count": 10,
   "id": "372b8ac5-7d1b-4a98-9237-e1d14d809206",
   "metadata": {},
   "outputs": [
    {
     "name": "stderr",
     "output_type": "stream",
     "text": [
      "\u001b[1mRows: \u001b[22m\u001b[34m1186\u001b[39m \u001b[1mColumns: \u001b[22m\u001b[34m38\u001b[39m\n",
      "\u001b[36m──\u001b[39m \u001b[1mColumn specification\u001b[22m \u001b[36m────────────────────────────────────────────────────────\u001b[39m\n",
      "\u001b[1mDelimiter:\u001b[22m \",\"\n",
      "\u001b[31mchr\u001b[39m (31): SeenYN, FanYN, SeenIYN, SeenIIYN, SeenIIIYN, SeenIVYN, SeenVYN, Se...\n",
      "\u001b[32mdbl\u001b[39m  (7): RespondentID, RankI, RankII, RankIII, RankIV, RankV, RankVI\n",
      "\n",
      "\u001b[36mℹ\u001b[39m Use `spec()` to retrieve the full column specification for this data.\n",
      "\u001b[36mℹ\u001b[39m Specify the column types or set `show_col_types = FALSE` to quiet this message.\n"
     ]
    }
   ],
   "source": [
    "SW_survey_renamed <- read_csv(\"/Users/kenyashiafernandez/Downloads/SW_survey_renamed.csv\")"
   ]
  },
  {
   "cell_type": "code",
   "execution_count": 11,
   "id": "9624e680-aa1c-46c2-b852-48b4e0135d60",
   "metadata": {},
   "outputs": [
    {
     "name": "stdout",
     "output_type": "stream",
     "text": [
      "\n",
      "   Cell Contents\n",
      "|-------------------------|\n",
      "|                   Count |\n",
      "|         Expected Values |\n",
      "| Chi-square contribution |\n",
      "|             Row Percent |\n",
      "|          Column Percent |\n",
      "|           Total Percent |\n",
      "|            Std Residual |\n",
      "|-------------------------|\n",
      "\n",
      "Total Observations in Table:  819 \n",
      "\n",
      "                      | SW_survey_renamed$RankI \n",
      "SW_survey_renamed$Age |        1  |        2  |        3  |        4  |        5  |        6  | Row Total | \n",
      "----------------------|-----------|-----------|-----------|-----------|-----------|-----------|-----------|\n",
      "                 > 60 |       53  |       22  |       36  |       50  |       13  |       18  |      192  | \n",
      "                      |   28.835  |   16.645  |   30.007  |   54.623  |   23.209  |   38.681  |           | \n",
      "                      |   20.251  |    1.723  |    1.197  |    0.391  |    4.491  |   11.057  |           | \n",
      "                      |   27.604% |   11.458% |   18.750% |   26.042% |    6.771% |    9.375% |   23.443% | \n",
      "                      |   43.089% |   30.986% |   28.125% |   21.459% |   13.131% |   10.909% |           | \n",
      "                      |    6.471% |    2.686% |    4.396% |    6.105% |    1.587% |    2.198% |           | \n",
      "                      |    4.500  |    1.313  |    1.094  |   -0.625  |   -2.119  |   -3.325  |           | \n",
      "----------------------|-----------|-----------|-----------|-----------|-----------|-----------|-----------|\n",
      "                18-29 |       21  |       15  |       20  |       42  |       33  |       49  |      180  | \n",
      "                      |   27.033  |   15.604  |   28.132  |   51.209  |   21.758  |   36.264  |           | \n",
      "                      |    1.346  |    0.023  |    2.351  |    1.656  |    5.808  |    4.473  |           | \n",
      "                      |   11.667% |    8.333% |   11.111% |   23.333% |   18.333% |   27.222% |   21.978% | \n",
      "                      |   17.073% |   21.127% |   15.625% |   18.026% |   33.333% |   29.697% |           | \n",
      "                      |    2.564% |    1.832% |    2.442% |    5.128% |    4.029% |    5.983% |           | \n",
      "                      |   -1.160  |   -0.153  |   -1.533  |   -1.287  |    2.410  |    2.115  |           | \n",
      "----------------------|-----------|-----------|-----------|-----------|-----------|-----------|-----------|\n",
      "                30-44 |       15  |       11  |       28  |       57  |       25  |       71  |      207  | \n",
      "                      |   31.088  |   17.945  |   32.352  |   58.890  |   25.022  |   41.703  |           | \n",
      "                      |    8.325  |    2.688  |    0.585  |    0.061  |    0.000  |   20.581  |           | \n",
      "                      |    7.246% |    5.314% |   13.527% |   27.536% |   12.077% |   34.300% |   25.275% | \n",
      "                      |   12.195% |   15.493% |   21.875% |   24.464% |   25.253% |   43.030% |           | \n",
      "                      |    1.832% |    1.343% |    3.419% |    6.960% |    3.053% |    8.669% |           | \n",
      "                      |   -2.885  |   -1.639  |   -0.765  |   -0.246  |   -0.004  |    4.537  |           | \n",
      "----------------------|-----------|-----------|-----------|-----------|-----------|-----------|-----------|\n",
      "                45-60 |       34  |       23  |       44  |       84  |       28  |       27  |      240  | \n",
      "                      |   36.044  |   20.806  |   37.509  |   68.278  |   29.011  |   48.352  |           | \n",
      "                      |    0.116  |    0.231  |    1.123  |    3.620  |    0.035  |    9.429  |           | \n",
      "                      |   14.167% |    9.583% |   18.333% |   35.000% |   11.667% |   11.250% |   29.304% | \n",
      "                      |   27.642% |   32.394% |   34.375% |   36.052% |   28.283% |   16.364% |           | \n",
      "                      |    4.151% |    2.808% |    5.372% |   10.256% |    3.419% |    3.297% |           | \n",
      "                      |   -0.340  |    0.481  |    1.060  |    1.903  |   -0.188  |   -3.071  |           | \n",
      "----------------------|-----------|-----------|-----------|-----------|-----------|-----------|-----------|\n",
      "         Column Total |      123  |       71  |      128  |      233  |       99  |      165  |      819  | \n",
      "                      |   15.018% |    8.669% |   15.629% |   28.449% |   12.088% |   20.147% |           | \n",
      "----------------------|-----------|-----------|-----------|-----------|-----------|-----------|-----------|\n",
      "\n",
      " \n",
      "Statistics for All Table Factors\n",
      "\n",
      "\n",
      "Pearson's Chi-squared test \n",
      "------------------------------------------------------------\n",
      "Chi^2 =  101.5626     d.f. =  15     p =  6.592143e-15 \n",
      "\n",
      "\n",
      " \n"
     ]
    },
    {
     "ename": "ERROR",
     "evalue": "Error in fisher.test(t, alternative = \"two.sided\"): FEXACT error 6 (f5xact).  LDKEY=617 is too small for this problem: kval=1496108167.\nTry increasing the size of the workspace.\n",
     "output_type": "error",
     "traceback": [
      "Error in fisher.test(t, alternative = \"two.sided\"): FEXACT error 6 (f5xact).  LDKEY=617 is too small for this problem: kval=1496108167.\nTry increasing the size of the workspace.\nTraceback:\n",
      "1. CrossTable(SW_survey_renamed$Age, SW_survey_renamed$RankI, fisher = TRUE, \n .     chisq = TRUE, expected = TRUE, sresid = TRUE, format = \"SPSS\")",
      "2. print.statistics()",
      "3. fisher.test(t, alternative = \"two.sided\")"
     ]
    }
   ],
   "source": [
    "CrossTable(SW_survey_renamed$Age, SW_survey_renamed$RankI, fisher=TRUE, chisq = TRUE, expected = TRUE, sresid=TRUE, format=\"SPSS\")"
   ]
  },
  {
   "cell_type": "markdown",
   "id": "a3808bcb-d0a5-48a5-b26a-932a226ddd42",
   "metadata": {},
   "source": [
    "### Goodness of Fit Chi-Squares in R"
   ]
  },
  {
   "cell_type": "markdown",
   "id": "7d99ba31-fc11-459e-ab29-fa6384af5d38",
   "metadata": {},
   "source": [
    "#### Load in Library"
   ]
  },
  {
   "cell_type": "code",
   "execution_count": 12,
   "id": "16267c01-7716-4b4f-a70f-4d1b7b43f3cd",
   "metadata": {},
   "outputs": [
    {
     "name": "stderr",
     "output_type": "stream",
     "text": [
      "\n",
      "Attaching package: ‘dplyr’\n",
      "\n",
      "\n",
      "The following objects are masked from ‘package:stats’:\n",
      "\n",
      "    filter, lag\n",
      "\n",
      "\n",
      "The following objects are masked from ‘package:base’:\n",
      "\n",
      "    intersect, setdiff, setequal, union\n",
      "\n",
      "\n"
     ]
    }
   ],
   "source": [
    "library(\"dplyr\")"
   ]
  },
  {
   "cell_type": "markdown",
   "id": "4cd0c7c1-82b4-4ff9-848e-2de491092ce9",
   "metadata": {},
   "source": [
    "#### Load in data"
   ]
  },
  {
   "cell_type": "code",
   "execution_count": 13,
   "id": "24e6c3d6-c286-4f8c-a744-d0ac4a8cd4ba",
   "metadata": {},
   "outputs": [
    {
     "name": "stderr",
     "output_type": "stream",
     "text": [
      "\u001b[1mRows: \u001b[22m\u001b[34m1186\u001b[39m \u001b[1mColumns: \u001b[22m\u001b[34m38\u001b[39m\n",
      "\u001b[36m──\u001b[39m \u001b[1mColumn specification\u001b[22m \u001b[36m────────────────────────────────────────────────────────\u001b[39m\n",
      "\u001b[1mDelimiter:\u001b[22m \",\"\n",
      "\u001b[31mchr\u001b[39m (31): SeenYN, FanYN, SeenIYN, SeenIIYN, SeenIIIYN, SeenIVYN, SeenVYN, Se...\n",
      "\u001b[32mdbl\u001b[39m  (7): RespondentID, RankI, RankII, RankIII, RankIV, RankV, RankVI\n",
      "\n",
      "\u001b[36mℹ\u001b[39m Use `spec()` to retrieve the full column specification for this data.\n",
      "\u001b[36mℹ\u001b[39m Specify the column types or set `show_col_types = FALSE` to quiet this message.\n"
     ]
    }
   ],
   "source": [
    "SW_survey_renamed <- read_csv(\"/Users/kenyashiafernandez/Downloads/SW_survey_renamed.csv\")"
   ]
  },
  {
   "cell_type": "markdown",
   "id": "16db16c7-cdcf-4c51-93f3-adc2486969f9",
   "metadata": {},
   "source": [
    "#### Data Wrangling "
   ]
  },
  {
   "cell_type": "code",
   "execution_count": 14,
   "id": "91b61d33-521e-4139-9478-be1a53449fdf",
   "metadata": {},
   "outputs": [
    {
     "data": {
      "text/html": [
       "<table class=\"dataframe\">\n",
       "<caption>A tibble: 3 × 2</caption>\n",
       "<thead>\n",
       "\t<tr><th scope=col>FanYN</th><th scope=col>count</th></tr>\n",
       "\t<tr><th scope=col>&lt;chr&gt;</th><th scope=col>&lt;int&gt;</th></tr>\n",
       "</thead>\n",
       "<tbody>\n",
       "\t<tr><td>No </td><td>284</td></tr>\n",
       "\t<tr><td>Yes</td><td>552</td></tr>\n",
       "\t<tr><td>NA </td><td>350</td></tr>\n",
       "</tbody>\n",
       "</table>\n"
      ],
      "text/latex": [
       "A tibble: 3 × 2\n",
       "\\begin{tabular}{ll}\n",
       " FanYN & count\\\\\n",
       " <chr> & <int>\\\\\n",
       "\\hline\n",
       "\t No  & 284\\\\\n",
       "\t Yes & 552\\\\\n",
       "\t NA  & 350\\\\\n",
       "\\end{tabular}\n"
      ],
      "text/markdown": [
       "\n",
       "A tibble: 3 × 2\n",
       "\n",
       "| FanYN &lt;chr&gt; | count &lt;int&gt; |\n",
       "|---|---|\n",
       "| No  | 284 |\n",
       "| Yes | 552 |\n",
       "| NA  | 350 |\n",
       "\n"
      ],
      "text/plain": [
       "  FanYN count\n",
       "1 No    284  \n",
       "2 Yes   552  \n",
       "3 NA    350  "
      ]
     },
     "metadata": {},
     "output_type": "display_data"
    }
   ],
   "source": [
    "SW_survey_renamed %>% group_by(FanYN) %>% summarize(count=n())"
   ]
  },
  {
   "cell_type": "markdown",
   "id": "26742763-f11c-41be-ab29-c168d82fdcdf",
   "metadata": {},
   "source": [
    "#### Run Analyst"
   ]
  },
  {
   "cell_type": "code",
   "execution_count": 16,
   "id": "844ac8f5-19c3-47a2-a243-98e3d59023d9",
   "metadata": {},
   "outputs": [],
   "source": [
    "observed = c(552, 284)"
   ]
  },
  {
   "cell_type": "code",
   "execution_count": 17,
   "id": "557216ba-cf93-4281-888f-696d1a6f7928",
   "metadata": {},
   "outputs": [],
   "source": [
    "expected = c(0.90, 0.10)"
   ]
  },
  {
   "cell_type": "code",
   "execution_count": 18,
   "id": "dc3c20e9-1cc3-485a-84fe-135b985ab2f9",
   "metadata": {},
   "outputs": [
    {
     "data": {
      "text/plain": [
       "\n",
       "\tChi-squared test for given probabilities\n",
       "\n",
       "data:  observed\n",
       "X-squared = 533.76, df = 1, p-value < 2.2e-16\n"
      ]
     },
     "metadata": {},
     "output_type": "display_data"
    }
   ],
   "source": [
    "chisq.test(x = observed, p = expected)"
   ]
  },
  {
   "cell_type": "markdown",
   "id": "494b7687-fdd4-46e8-b6d0-7d153445fd99",
   "metadata": {},
   "source": [
    "### McNemar Chi-Squares"
   ]
  },
  {
   "cell_type": "markdown",
   "id": "9af90eb1-87cd-4df4-83fb-a366cbeb989d",
   "metadata": {},
   "source": [
    "#### Load in libraries"
   ]
  },
  {
   "cell_type": "code",
   "execution_count": 19,
   "id": "9471a3dd-2aba-4b69-be13-fa0d51c44f80",
   "metadata": {},
   "outputs": [],
   "source": [
    "library(\"gmodels\")\n",
    "library(\"tidyr\")"
   ]
  },
  {
   "cell_type": "markdown",
   "id": "027975af-1b95-469f-aef1-e6d3d43091db",
   "metadata": {},
   "source": [
    "#### Load in data"
   ]
  },
  {
   "cell_type": "code",
   "execution_count": 20,
   "id": "30c63f02-06ec-405e-bfb2-a8b4a3073085",
   "metadata": {},
   "outputs": [
    {
     "name": "stderr",
     "output_type": "stream",
     "text": [
      "\u001b[1mRows: \u001b[22m\u001b[34m21293\u001b[39m \u001b[1mColumns: \u001b[22m\u001b[34m4\u001b[39m\n",
      "\u001b[36m──\u001b[39m \u001b[1mColumn specification\u001b[22m \u001b[36m────────────────────────────────────────────────────────\u001b[39m\n",
      "\u001b[1mDelimiter:\u001b[22m \",\"\n",
      "\u001b[31mchr\u001b[39m  (2): Date, Item\n",
      "\u001b[32mdbl\u001b[39m  (1): Transaction\n",
      "\u001b[34mtime\u001b[39m (1): Time\n",
      "\n",
      "\u001b[36mℹ\u001b[39m Use `spec()` to retrieve the full column specification for this data.\n",
      "\u001b[36mℹ\u001b[39m Specify the column types or set `show_col_types = FALSE` to quiet this message.\n"
     ]
    }
   ],
   "source": [
    "bakery_sales <- read_csv(\"/Users/kenyashiafernandez/Downloads/bakery_sales.csv\")"
   ]
  },
  {
   "cell_type": "markdown",
   "id": "8e24a11e-528b-448f-829f-33ba3b17ef39",
   "metadata": {},
   "source": [
    "### Data Wrangling "
   ]
  },
  {
   "cell_type": "markdown",
   "id": "63daa714-9431-4125-8a53-661da5ab2146",
   "metadata": {},
   "source": [
    "#### Check structure of data"
   ]
  },
  {
   "cell_type": "code",
   "execution_count": 21,
   "id": "6245d304-87e9-4d8b-814c-203592551f58",
   "metadata": {},
   "outputs": [
    {
     "name": "stdout",
     "output_type": "stream",
     "text": [
      "spec_tbl_df [21,293 × 4] (S3: spec_tbl_df/tbl_df/tbl/data.frame)\n",
      " $ Date       : chr [1:21293] \"10/30/2016\" \"10/30/2016\" \"10/30/2016\" \"10/30/2016\" ...\n",
      " $ Time       : 'hms' num [1:21293] 09:58:11 10:05:34 10:05:34 10:07:57 ...\n",
      "  ..- attr(*, \"units\")= chr \"secs\"\n",
      " $ Transaction: num [1:21293] 1 2 2 3 3 3 4 5 5 5 ...\n",
      " $ Item       : chr [1:21293] \"Bread\" \"Scandinavian\" \"Scandinavian\" \"Hot chocolate\" ...\n",
      " - attr(*, \"spec\")=\n",
      "  .. cols(\n",
      "  ..   Date = \u001b[31mcol_character()\u001b[39m,\n",
      "  ..   Time = \u001b[34mcol_time(format = \"\")\u001b[39m,\n",
      "  ..   Transaction = \u001b[32mcol_double()\u001b[39m,\n",
      "  ..   Item = \u001b[31mcol_character()\u001b[39m\n",
      "  .. )\n",
      " - attr(*, \"problems\")=<externalptr> \n"
     ]
    }
   ],
   "source": [
    "str(bakery_sales)"
   ]
  },
  {
   "cell_type": "markdown",
   "id": "90c62209-072e-4c9a-93ad-a9dbdb0ab997",
   "metadata": {},
   "source": [
    "#### Reformatting to a date "
   ]
  },
  {
   "cell_type": "code",
   "execution_count": 22,
   "id": "22fe9a24-ab3d-406c-83fb-b91681a98144",
   "metadata": {},
   "outputs": [],
   "source": [
    "bakery_sales$DateR <- as.Date(bakery_sales$Date, format=\"%m/%d/%Y\")"
   ]
  },
  {
   "cell_type": "markdown",
   "id": "9a9ec199-33c1-49c5-a0c5-4b66869b390e",
   "metadata": {},
   "source": [
    "#### Separating the pieces of the date variable"
   ]
  },
  {
   "cell_type": "code",
   "execution_count": 23,
   "id": "58f751bf-f1b9-43af-84af-3db8be648b79",
   "metadata": {},
   "outputs": [],
   "source": [
    "bakery_sales1 <- separate(bakery_sales, DateR, c(\"Year\", \"Month\", \"Day\"), sep=\"-\")"
   ]
  },
  {
   "cell_type": "markdown",
   "id": "6abbf92f-c31b-4257-b60e-e90659e2a1b4",
   "metadata": {},
   "source": [
    "#### Recoding to begining or end of the month "
   ]
  },
  {
   "cell_type": "code",
   "execution_count": 24,
   "id": "4cfd7c63-6498-4c78-8988-59650f088a08",
   "metadata": {},
   "outputs": [],
   "source": [
    "bakery_sales1$DayR <- NA\n",
    "bakery_sales1$DayR[bakery_sales1$Day <= 15] <- 0\n",
    "bakery_sales1$DayR[bakery_sales1$Day > 15] <- 1"
   ]
  },
  {
   "cell_type": "markdown",
   "id": "d591b9f2-6903-49f2-9631-2312981be7d2",
   "metadata": {},
   "source": [
    "#### Recoding to coffee or other"
   ]
  },
  {
   "cell_type": "code",
   "execution_count": 25,
   "id": "126407a0-d268-4cc8-8b4b-99bdf98dbba3",
   "metadata": {},
   "outputs": [],
   "source": [
    "bakery_sales1$CoffeeSales <- NA\n",
    "bakery_sales1$CoffeeSales[bakery_sales1$Item == \"Coffee\"] <- 1\n",
    "bakery_sales1$CoffeeSales[bakery_sales1$Item != \"Coffee\"] <- 0"
   ]
  },
  {
   "cell_type": "markdown",
   "id": "e4662ee4-bd65-475e-a128-601460a22329",
   "metadata": {},
   "source": [
    "### Test assumptions and run analysis"
   ]
  },
  {
   "cell_type": "code",
   "execution_count": 26,
   "id": "01dc61bb-680e-49b8-abe3-3017e79c453b",
   "metadata": {},
   "outputs": [
    {
     "name": "stdout",
     "output_type": "stream",
     "text": [
      "\n",
      "   Cell Contents\n",
      "|-------------------------|\n",
      "|                   Count |\n",
      "|         Expected Values |\n",
      "| Chi-square contribution |\n",
      "|             Row Percent |\n",
      "|          Column Percent |\n",
      "|           Total Percent |\n",
      "|            Std Residual |\n",
      "|-------------------------|\n",
      "\n",
      "Total Observations in Table:  21293 \n",
      "\n",
      "                   | bakery_sales1$CoffeeSales \n",
      "bakery_sales1$DayR |        0  |        1  | Row Total | \n",
      "-------------------|-----------|-----------|-----------|\n",
      "                 0 |     8238  |     2841  |    11079  | \n",
      "                   | 8232.374  | 2846.626  |           | \n",
      "                   |    0.004  |    0.011  |           | \n",
      "                   |   74.357% |   25.643% |   52.031% | \n",
      "                   |   52.067% |   51.928% |           | \n",
      "                   |   38.689% |   13.342% |           | \n",
      "                   |    0.062  |   -0.105  |           | \n",
      "-------------------|-----------|-----------|-----------|\n",
      "                 1 |     7584  |     2630  |    10214  | \n",
      "                   | 7589.626  | 2624.374  |           | \n",
      "                   |    0.004  |    0.012  |           | \n",
      "                   |   74.251% |   25.749% |   47.969% | \n",
      "                   |   47.933% |   48.072% |           | \n",
      "                   |   35.617% |   12.351% |           | \n",
      "                   |   -0.065  |    0.110  |           | \n",
      "-------------------|-----------|-----------|-----------|\n",
      "      Column Total |    15822  |     5471  |    21293  | \n",
      "                   |   74.306% |   25.694% |           | \n",
      "-------------------|-----------|-----------|-----------|\n",
      "\n",
      " \n",
      "Statistics for All Table Factors\n",
      "\n",
      "\n",
      "Pearson's Chi-squared test \n",
      "------------------------------------------------------------\n",
      "Chi^2 =  0.03119586     d.f. =  1     p =  0.8598041 \n",
      "\n",
      "Pearson's Chi-squared test with Yates' continuity correction \n",
      "------------------------------------------------------------\n",
      "Chi^2 =  0.02589738     d.f. =  1     p =  0.8721512 \n",
      "\n",
      " \n",
      "McNemar's Chi-squared test \n",
      "------------------------------------------------------------\n",
      "Chi^2 =  2157.894     d.f. =  1     p =  0 \n",
      "\n",
      "McNemar's Chi-squared test with continuity correction \n",
      "------------------------------------------------------------\n",
      "Chi^2 =  2156.985     d.f. =  1     p =  0 \n",
      "\n",
      " \n",
      "Fisher's Exact Test for Count Data\n",
      "------------------------------------------------------------\n",
      "Sample estimate odds ratio:  1.00556 \n",
      "\n",
      "Alternative hypothesis: true odds ratio is not equal to 1\n",
      "p =  0.8629243 \n",
      "95% confidence interval:  0.9450908 1.06987 \n",
      "\n",
      "Alternative hypothesis: true odds ratio is less than 1\n",
      "p =  0.5762927 \n",
      "95% confidence interval:  0 1.059359 \n",
      "\n",
      "Alternative hypothesis: true odds ratio is greater than 1\n",
      "p =  0.4360365 \n",
      "95% confidence interval:  0.9545028 Inf \n",
      "\n",
      "\n",
      " \n",
      "       Minimum expected frequency: 2624.374 \n",
      "\n"
     ]
    }
   ],
   "source": [
    "CrossTable(bakery_sales1$DayR, bakery_sales1$CoffeeSales, fisher=TRUE, chisq = TRUE, mcnemar = TRUE, expected = TRUE, sresid=TRUE, format=\"SPSS\")"
   ]
  },
  {
   "cell_type": "code",
   "execution_count": null,
   "id": "86502943-0640-4af2-9985-ff17d1bdd93d",
   "metadata": {},
   "outputs": [],
   "source": []
  }
 ],
 "metadata": {
  "kernelspec": {
   "display_name": "R",
   "language": "R",
   "name": "ir"
  },
  "language_info": {
   "codemirror_mode": "r",
   "file_extension": ".r",
   "mimetype": "text/x-r-source",
   "name": "R",
   "pygments_lexer": "r",
   "version": "4.1.2"
  }
 },
 "nbformat": 4,
 "nbformat_minor": 5
}
