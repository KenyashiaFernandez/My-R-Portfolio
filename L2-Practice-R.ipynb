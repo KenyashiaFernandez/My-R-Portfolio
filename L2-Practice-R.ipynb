{
 "cells": [
  {
   "cell_type": "markdown",
   "id": "2d383dac-88ed-4d4a-807f-8dff04191063",
   "metadata": {},
   "source": [
    "## Lesson 2 Examples "
   ]
  },
  {
   "cell_type": "markdown",
   "id": "62743100-f7de-40ee-8747-d7bd2a25833c",
   "metadata": {},
   "source": [
    "### Load in Library "
   ]
  },
  {
   "cell_type": "code",
   "execution_count": 1,
   "id": "f3616320-a8c0-4d4b-9603-dae104df2871",
   "metadata": {},
   "outputs": [
    {
     "name": "stderr",
     "output_type": "stream",
     "text": [
      "Loading required package: ggplot2\n",
      "\n",
      "Loading required package: lattice\n",
      "\n"
     ]
    },
    {
     "ename": "ERROR",
     "evalue": "Error: package or namespace load failed for ‘caret’ in loadNamespace(j <- i[[1L]], c(lib.loc, .libPaths()), versionCheck = vI[[j]]):\n there is no package called ‘lubridate’\n",
     "output_type": "error",
     "traceback": [
      "Error: package or namespace load failed for ‘caret’ in loadNamespace(j <- i[[1L]], c(lib.loc, .libPaths()), versionCheck = vI[[j]]):\n there is no package called ‘lubridate’\nTraceback:\n",
      "1. library(\"caret\")",
      "2. tryCatch({\n .     attr(package, \"LibPath\") <- which.lib.loc\n .     ns <- loadNamespace(package, lib.loc)\n .     env <- attachNamespace(ns, pos = pos, deps, exclude, include.only)\n . }, error = function(e) {\n .     P <- if (!is.null(cc <- conditionCall(e))) \n .         paste(\" in\", deparse(cc)[1L])\n .     else \"\"\n .     msg <- gettextf(\"package or namespace load failed for %s%s:\\n %s\", \n .         sQuote(package), P, conditionMessage(e))\n .     if (logical.return && !quietly) \n .         message(paste(\"Error:\", msg), domain = NA)\n .     else stop(msg, call. = FALSE, domain = NA)\n . })",
      "3. tryCatchList(expr, classes, parentenv, handlers)",
      "4. tryCatchOne(expr, names, parentenv, handlers[[1L]])",
      "5. value[[3L]](cond)",
      "6. stop(msg, call. = FALSE, domain = NA)"
     ]
    }
   ],
   "source": [
    "library(\"caret\")\n",
    "library(\"magrittr\")\n",
    "library(\"dplyr\")\n",
    "library(\"tidyr\")\n",
    "library(\"lmtest\")\n",
    "library(\"popbio\")\n",
    "library(\"e1071\")"
   ]
  },
  {
   "cell_type": "code",
   "execution_count": 14,
   "id": "8051e524-6856-41d0-9732-147f3d62a605",
   "metadata": {},
   "outputs": [
    {
     "ename": "ERROR",
     "evalue": "Error in intall.packages(\"lubridate\"): could not find function \"intall.packages\"\n",
     "output_type": "error",
     "traceback": [
      "Error in intall.packages(\"lubridate\"): could not find function \"intall.packages\"\nTraceback:\n"
     ]
    }
   ],
   "source": [
    "intall.packages(\"lubridate\")"
   ]
  },
  {
   "cell_type": "markdown",
   "id": "57e36f4b-f12a-467c-b141-9e20626b89fa",
   "metadata": {},
   "source": [
    "### Load in data"
   ]
  },
  {
   "cell_type": "code",
   "execution_count": 2,
   "id": "fc42c650-4c30-43ce-8e02-d58191f49346",
   "metadata": {},
   "outputs": [],
   "source": [
    "baseball <- read.csv(\"/Users/kenyashiafernandez/Desktop/Data-Science-Program/DATASETS/baseball.csv\")"
   ]
  },
  {
   "cell_type": "code",
   "execution_count": 3,
   "id": "0032fc36-4441-49b7-bd1d-08e743e034e4",
   "metadata": {},
   "outputs": [
    {
     "data": {
      "text/html": [
       "<table class=\"dataframe\">\n",
       "<caption>A data.frame: 6 × 10</caption>\n",
       "<thead>\n",
       "\t<tr><th></th><th scope=col>Game</th><th scope=col>Team</th><th scope=col>Opp</th><th scope=col>W.L</th><th scope=col>R</th><th scope=col>RA</th><th scope=col>D.N</th><th scope=col>Att</th><th scope=col>Team.1</th><th scope=col>HR.Count</th></tr>\n",
       "\t<tr><th></th><th scope=col>&lt;int&gt;</th><th scope=col>&lt;chr&gt;</th><th scope=col>&lt;chr&gt;</th><th scope=col>&lt;chr&gt;</th><th scope=col>&lt;int&gt;</th><th scope=col>&lt;int&gt;</th><th scope=col>&lt;chr&gt;</th><th scope=col>&lt;int&gt;</th><th scope=col>&lt;chr&gt;</th><th scope=col>&lt;int&gt;</th></tr>\n",
       "</thead>\n",
       "<tbody>\n",
       "\t<tr><th scope=row>1</th><td>1</td><td>ARI</td><td>SFG</td><td>W</td><td>6</td><td>5</td><td>D</td><td>49016</td><td>ARI</td><td>1</td></tr>\n",
       "\t<tr><th scope=row>2</th><td>1</td><td>CHC</td><td>STL</td><td>L</td><td>3</td><td>4</td><td>N</td><td>47566</td><td>CHC</td><td>1</td></tr>\n",
       "\t<tr><th scope=row>3</th><td>1</td><td>NYY</td><td>TBR</td><td>L</td><td>3</td><td>7</td><td>D</td><td>31042</td><td>NYY</td><td>0</td></tr>\n",
       "\t<tr><th scope=row>4</th><td>1</td><td>SFG</td><td>ARI</td><td>L</td><td>5</td><td>6</td><td>D</td><td>49016</td><td>SF </td><td>2</td></tr>\n",
       "\t<tr><th scope=row>5</th><td>1</td><td>STL</td><td>CHC</td><td>W</td><td>4</td><td>3</td><td>N</td><td>47566</td><td>STL</td><td>1</td></tr>\n",
       "\t<tr><th scope=row>6</th><td>1</td><td>TBR</td><td>NYY</td><td>W</td><td>7</td><td>3</td><td>D</td><td>31042</td><td>TB </td><td>2</td></tr>\n",
       "</tbody>\n",
       "</table>\n"
      ],
      "text/latex": [
       "A data.frame: 6 × 10\n",
       "\\begin{tabular}{r|llllllllll}\n",
       "  & Game & Team & Opp & W.L & R & RA & D.N & Att & Team.1 & HR.Count\\\\\n",
       "  & <int> & <chr> & <chr> & <chr> & <int> & <int> & <chr> & <int> & <chr> & <int>\\\\\n",
       "\\hline\n",
       "\t1 & 1 & ARI & SFG & W & 6 & 5 & D & 49016 & ARI & 1\\\\\n",
       "\t2 & 1 & CHC & STL & L & 3 & 4 & N & 47566 & CHC & 1\\\\\n",
       "\t3 & 1 & NYY & TBR & L & 3 & 7 & D & 31042 & NYY & 0\\\\\n",
       "\t4 & 1 & SFG & ARI & L & 5 & 6 & D & 49016 & SF  & 2\\\\\n",
       "\t5 & 1 & STL & CHC & W & 4 & 3 & N & 47566 & STL & 1\\\\\n",
       "\t6 & 1 & TBR & NYY & W & 7 & 3 & D & 31042 & TB  & 2\\\\\n",
       "\\end{tabular}\n"
      ],
      "text/markdown": [
       "\n",
       "A data.frame: 6 × 10\n",
       "\n",
       "| <!--/--> | Game &lt;int&gt; | Team &lt;chr&gt; | Opp &lt;chr&gt; | W.L &lt;chr&gt; | R &lt;int&gt; | RA &lt;int&gt; | D.N &lt;chr&gt; | Att &lt;int&gt; | Team.1 &lt;chr&gt; | HR.Count &lt;int&gt; |\n",
       "|---|---|---|---|---|---|---|---|---|---|---|\n",
       "| 1 | 1 | ARI | SFG | W | 6 | 5 | D | 49016 | ARI | 1 |\n",
       "| 2 | 1 | CHC | STL | L | 3 | 4 | N | 47566 | CHC | 1 |\n",
       "| 3 | 1 | NYY | TBR | L | 3 | 7 | D | 31042 | NYY | 0 |\n",
       "| 4 | 1 | SFG | ARI | L | 5 | 6 | D | 49016 | SF  | 2 |\n",
       "| 5 | 1 | STL | CHC | W | 4 | 3 | N | 47566 | STL | 1 |\n",
       "| 6 | 1 | TBR | NYY | W | 7 | 3 | D | 31042 | TB  | 2 |\n",
       "\n"
      ],
      "text/plain": [
       "  Game Team Opp W.L R RA D.N Att   Team.1 HR.Count\n",
       "1 1    ARI  SFG W   6 5  D   49016 ARI    1       \n",
       "2 1    CHC  STL L   3 4  N   47566 CHC    1       \n",
       "3 1    NYY  TBR L   3 7  D   31042 NYY    0       \n",
       "4 1    SFG  ARI L   5 6  D   49016 SF     2       \n",
       "5 1    STL  CHC W   4 3  N   47566 STL    1       \n",
       "6 1    TBR  NYY W   7 3  D   31042 TB     2       "
      ]
     },
     "metadata": {},
     "output_type": "display_data"
    }
   ],
   "source": [
    "head(baseball)"
   ]
  },
  {
   "cell_type": "markdown",
   "id": "b51d4f67-8816-4027-8e4f-b11a14adbb50",
   "metadata": {},
   "source": [
    "### Data Wrangling: \n",
    "#### The following code will create a new wins and losses column that will re-code this variable numerically:"
   ]
  },
  {
   "cell_type": "code",
   "execution_count": 4,
   "id": "ea688644-b3b2-4fae-bc69-ca373ec330ed",
   "metadata": {},
   "outputs": [],
   "source": [
    "baseball$WinsR <- NA\n",
    "baseball$WinsR[baseball$W.L=='W'] <- 1\n",
    "baseball$WinsR[baseball$W.L=='L'] <- 0"
   ]
  },
  {
   "cell_type": "markdown",
   "id": "bb6f9f1e-de8f-4d31-96b3-e2f0b1328dd8",
   "metadata": {},
   "source": [
    "### Run the base logistic model"
   ]
  },
  {
   "cell_type": "code",
   "execution_count": 5,
   "id": "a6eeb179-63c6-4d4f-a803-e850bd7c8690",
   "metadata": {},
   "outputs": [],
   "source": [
    "mylogit <- glm(WinsR ~ HR.Count, data=baseball, family=\"binomial\")"
   ]
  },
  {
   "cell_type": "markdown",
   "id": "bb269e18-fc11-4759-aa0e-6bbc872739cf",
   "metadata": {},
   "source": [
    "### Predict wins and loses"
   ]
  },
  {
   "cell_type": "code",
   "execution_count": 7,
   "id": "79b5f06c-fb5e-4f39-b03c-0eb3bdc01ab7",
   "metadata": {},
   "outputs": [],
   "source": [
    "probabilities <- predict(mylogit, type = \"response\")"
   ]
  },
  {
   "cell_type": "code",
   "execution_count": 8,
   "id": "3cb18667-2886-45fe-8f02-bf42898b7bc7",
   "metadata": {},
   "outputs": [],
   "source": [
    "probabilities <- predict(mylogit, type = \"response\")\n",
    "baseball$Predicted <- ifelse(probabilities > .5, \"pos\", \"neg\")"
   ]
  },
  {
   "cell_type": "markdown",
   "id": "26d11aba-812c-4700-881e-3f5ff25fa473",
   "metadata": {},
   "source": [
    "### Recode the predicted variable "
   ]
  },
  {
   "cell_type": "code",
   "execution_count": 9,
   "id": "e979c764-8060-4928-9cd9-969c7c7cfc77",
   "metadata": {},
   "outputs": [],
   "source": [
    "baseball$PredictedR <- NA\n",
    "baseball$PredictedR[baseball$Predicted=='pos'] <- 1\n",
    "baseball$PredictedR[baseball$Predicted=='neg'] <- 0"
   ]
  },
  {
   "cell_type": "markdown",
   "id": "9159b842-dbfd-4958-af25-9d668ca23d75",
   "metadata": {},
   "source": [
    "### Convert variables into factors"
   ]
  },
  {
   "cell_type": "code",
   "execution_count": 10,
   "id": "8f4877d8-89e6-4c55-9ab2-d9e6efb723a8",
   "metadata": {},
   "outputs": [],
   "source": [
    "baseball$PredictedR <- as.factor(baseball$PredictedR)\n",
    "baseball$WinsR <- as.factor(baseball$WinsR)"
   ]
  },
  {
   "cell_type": "markdown",
   "id": "f0faf0a2-f85d-43a1-9528-3bacbca55c74",
   "metadata": {},
   "source": [
    "### Create a confusion matrix"
   ]
  },
  {
   "cell_type": "code",
   "execution_count": 15,
   "id": "68b5a3ee-65b4-4786-a74a-073df2b1e248",
   "metadata": {},
   "outputs": [
    {
     "ename": "ERROR",
     "evalue": "Error in loadNamespace(j <- i[[1L]], c(lib.loc, .libPaths()), versionCheck = vI[[j]]): there is no package called ‘lubridate’\n",
     "output_type": "error",
     "traceback": [
      "Error in loadNamespace(j <- i[[1L]], c(lib.loc, .libPaths()), versionCheck = vI[[j]]): there is no package called ‘lubridate’\nTraceback:\n",
      "1. loadNamespace(x)",
      "2. namespaceImport(ns, loadNamespace(i, c(lib.loc, .libPaths()), \n .     versionCheck = vI[[i]]), from = package)",
      "3. loadNamespace(i, c(lib.loc, .libPaths()), versionCheck = vI[[i]])",
      "4. namespaceImportFrom(ns, loadNamespace(j <- i[[1L]], c(lib.loc, \n .     .libPaths()), versionCheck = vI[[j]]), i[[2L]], from = package)",
      "5. asNamespace(ns)",
      "6. loadNamespace(j <- i[[1L]], c(lib.loc, .libPaths()), versionCheck = vI[[j]])",
      "7. withRestarts(stop(cond), retry_loadNamespace = function() NULL)",
      "8. withOneRestart(expr, restarts[[1L]])",
      "9. doWithOneRestart(return(expr), restart)"
     ]
    }
   ],
   "source": [
    "conf_mat <- caret::confusionMatrix(baseball$PredictedR, baseball$WinsR)"
   ]
  },
  {
   "cell_type": "code",
   "execution_count": null,
   "id": "892a3609-0920-44dc-98c9-3b3e13d84669",
   "metadata": {},
   "outputs": [],
   "source": []
  },
  {
   "cell_type": "code",
   "execution_count": null,
   "id": "4f20fea6-f1b9-4035-9203-298651341811",
   "metadata": {},
   "outputs": [],
   "source": []
  }
 ],
 "metadata": {
  "kernelspec": {
   "display_name": "R",
   "language": "R",
   "name": "ir"
  },
  "language_info": {
   "codemirror_mode": "r",
   "file_extension": ".r",
   "mimetype": "text/x-r-source",
   "name": "R",
   "pygments_lexer": "r",
   "version": "4.1.2"
  }
 },
 "nbformat": 4,
 "nbformat_minor": 5
}
