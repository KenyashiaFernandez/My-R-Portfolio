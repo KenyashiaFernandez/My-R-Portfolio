{
 "cells": [
  {
   "cell_type": "markdown",
   "id": "15973e14-e64b-4593-8050-b0b2f1ec2767",
   "metadata": {},
   "source": [
    "### Lesson 4 Practice Hands-On"
   ]
  },
  {
   "cell_type": "markdown",
   "id": "be8c06aa-d296-422d-85d6-7d4e43edfc90",
   "metadata": {},
   "source": [
    "### Stepwise Regression Hands On"
   ]
  },
  {
   "cell_type": "markdown",
   "id": "9b0a4923-4d88-47ac-af75-96bcefa305e7",
   "metadata": {},
   "source": [
    "#### Part I: Backwards Elimination"
   ]
  },
  {
   "cell_type": "markdown",
   "id": "2ffe7471-e162-4e27-a19e-d6e85fd287b4",
   "metadata": {},
   "source": [
    "#### Load in Data"
   ]
  },
  {
   "cell_type": "code",
   "execution_count": null,
   "id": "33de0473-38b5-43e2-bed9-8799f9f33c52",
   "metadata": {
    "vscode": {
     "languageId": "r"
    }
   },
   "outputs": [
    {
     "data": {
      "text/html": [
       "<table class=\"dataframe\">\n",
       "<caption>A data.frame: 6 × 6</caption>\n",
       "<thead>\n",
       "\t<tr><th></th><th scope=col>Test1</th><th scope=col>Test2</th><th scope=col>Test3</th><th scope=col>Test4</th><th scope=col>Test5</th><th scope=col>IQ</th></tr>\n",
       "\t<tr><th></th><th scope=col>&lt;int&gt;</th><th scope=col>&lt;int&gt;</th><th scope=col>&lt;int&gt;</th><th scope=col>&lt;int&gt;</th><th scope=col>&lt;int&gt;</th><th scope=col>&lt;int&gt;</th></tr>\n",
       "</thead>\n",
       "<tbody>\n",
       "\t<tr><th scope=row>1</th><td>83</td><td>34</td><td>65</td><td>63</td><td>64</td><td>106</td></tr>\n",
       "\t<tr><th scope=row>2</th><td>73</td><td>19</td><td>73</td><td>48</td><td>82</td><td> 92</td></tr>\n",
       "\t<tr><th scope=row>3</th><td>54</td><td>81</td><td>82</td><td>65</td><td>73</td><td>102</td></tr>\n",
       "\t<tr><th scope=row>4</th><td>96</td><td>72</td><td>91</td><td>88</td><td>94</td><td>121</td></tr>\n",
       "\t<tr><th scope=row>5</th><td>84</td><td>53</td><td>72</td><td>68</td><td>82</td><td>102</td></tr>\n",
       "\t<tr><th scope=row>6</th><td>86</td><td>72</td><td>63</td><td>79</td><td>57</td><td>105</td></tr>\n",
       "</tbody>\n",
       "</table>\n"
      ],
      "text/latex": [
       "A data.frame: 6 × 6\n",
       "\\begin{tabular}{r|llllll}\n",
       "  & Test1 & Test2 & Test3 & Test4 & Test5 & IQ\\\\\n",
       "  & <int> & <int> & <int> & <int> & <int> & <int>\\\\\n",
       "\\hline\n",
       "\t1 & 83 & 34 & 65 & 63 & 64 & 106\\\\\n",
       "\t2 & 73 & 19 & 73 & 48 & 82 &  92\\\\\n",
       "\t3 & 54 & 81 & 82 & 65 & 73 & 102\\\\\n",
       "\t4 & 96 & 72 & 91 & 88 & 94 & 121\\\\\n",
       "\t5 & 84 & 53 & 72 & 68 & 82 & 102\\\\\n",
       "\t6 & 86 & 72 & 63 & 79 & 57 & 105\\\\\n",
       "\\end{tabular}\n"
      ],
      "text/markdown": [
       "\n",
       "A data.frame: 6 × 6\n",
       "\n",
       "| <!--/--> | Test1 &lt;int&gt; | Test2 &lt;int&gt; | Test3 &lt;int&gt; | Test4 &lt;int&gt; | Test5 &lt;int&gt; | IQ &lt;int&gt; |\n",
       "|---|---|---|---|---|---|---|\n",
       "| 1 | 83 | 34 | 65 | 63 | 64 | 106 |\n",
       "| 2 | 73 | 19 | 73 | 48 | 82 |  92 |\n",
       "| 3 | 54 | 81 | 82 | 65 | 73 | 102 |\n",
       "| 4 | 96 | 72 | 91 | 88 | 94 | 121 |\n",
       "| 5 | 84 | 53 | 72 | 68 | 82 | 102 |\n",
       "| 6 | 86 | 72 | 63 | 79 | 57 | 105 |\n",
       "\n"
      ],
      "text/plain": [
       "  Test1 Test2 Test3 Test4 Test5 IQ \n",
       "1 83    34    65    63    64    106\n",
       "2 73    19    73    48    82     92\n",
       "3 54    81    82    65    73    102\n",
       "4 96    72    91    88    94    121\n",
       "5 84    53    72    68    82    102\n",
       "6 86    72    63    79    57    105"
      ]
     },
     "metadata": {},
     "output_type": "display_data"
    }
   ],
   "source": [
    "IQ <- read.csv(\"/Users/kenyashiafernandez/Desktop/Data-Science-Program/DATASETS/IQ.csv\")\n",
    "head(IQ)"
   ]
  },
  {
   "cell_type": "markdown",
   "id": "d44143ea-7912-440a-a88d-d383b11209c6",
   "metadata": {},
   "source": [
    "#### Get a Baseline"
   ]
  },
  {
   "cell_type": "code",
   "execution_count": null,
   "id": "89c82816-3ff7-4791-ae1c-8a6d15aec962",
   "metadata": {
    "vscode": {
     "languageId": "r"
    }
   },
   "outputs": [
    {
     "data": {
      "text/plain": [
       "     Test1           Test2          Test3           Test4           Test5      \n",
       " Min.   :37.00   Min.   :19.0   Min.   :43.00   Min.   :39.00   Min.   :42.00  \n",
       " 1st Qu.:54.00   1st Qu.:51.0   1st Qu.:64.00   1st Qu.:57.50   1st Qu.:59.50  \n",
       " Median :71.00   Median :63.0   Median :72.00   Median :68.00   Median :72.00  \n",
       " Mean   :67.93   Mean   :61.4   Mean   :72.33   Mean   :65.53   Mean   :69.93  \n",
       " 3rd Qu.:82.00   3rd Qu.:74.5   3rd Qu.:82.00   3rd Qu.:73.00   3rd Qu.:82.50  \n",
       " Max.   :96.00   Max.   :89.0   Max.   :96.00   Max.   :88.00   Max.   :94.00  \n",
       "       IQ       \n",
       " Min.   : 92.0  \n",
       " 1st Qu.: 96.5  \n",
       " Median :102.0  \n",
       " Mean   :104.3  \n",
       " 3rd Qu.:109.0  \n",
       " Max.   :130.0  "
      ]
     },
     "metadata": {},
     "output_type": "display_data"
    }
   ],
   "source": [
    "FitAll = lm(IQ ~ ., data = IQ)\n",
    "summary(IQ)"
   ]
  },
  {
   "cell_type": "markdown",
   "id": "d46afb64-983e-4379-8682-ff758cae26e7",
   "metadata": {},
   "source": [
    "#### Backward Elimination"
   ]
  },
  {
   "cell_type": "code",
   "execution_count": null,
   "id": "6156f1e2-c871-4b8b-ba74-5dd35fbbb3fe",
   "metadata": {
    "vscode": {
     "languageId": "r"
    }
   },
   "outputs": [
    {
     "name": "stdout",
     "output_type": "stream",
     "text": [
      "Start:  AIC=75.31\n",
      "IQ ~ Test1 + Test2 + Test3 + Test4 + Test5\n",
      "\n",
      "        Df Sum of Sq    RSS    AIC\n",
      "- Test5  1      4.61 1025.8 73.378\n",
      "- Test3  1     25.85 1047.0 73.685\n",
      "<none>               1021.2 75.310\n",
      "- Test1  1    400.56 1421.7 78.274\n",
      "- Test2  1    410.29 1431.5 78.376\n",
      "- Test4  1    481.32 1502.5 79.103\n",
      "\n",
      "Step:  AIC=73.38\n",
      "IQ ~ Test1 + Test2 + Test3 + Test4\n",
      "\n",
      "        Df Sum of Sq    RSS    AIC\n",
      "- Test3  1     21.24 1047.0 71.685\n",
      "<none>               1025.8 73.378\n",
      "- Test1  1    403.17 1429.0 76.350\n",
      "- Test2  1    406.47 1432.3 76.384\n",
      "- Test4  1    481.26 1507.1 77.148\n",
      "\n",
      "Step:  AIC=71.69\n",
      "IQ ~ Test1 + Test2 + Test4\n",
      "\n",
      "        Df Sum of Sq    RSS    AIC\n",
      "<none>               1047.0 71.685\n",
      "- Test2  1    406.25 1453.3 74.603\n",
      "- Test1  1    415.39 1462.4 74.697\n",
      "- Test4  1    484.13 1531.2 75.386\n"
     ]
    },
    {
     "data": {
      "text/plain": [
       "\n",
       "Call:\n",
       "lm(formula = IQ ~ Test1 + Test2 + Test4, data = IQ)\n",
       "\n",
       "Coefficients:\n",
       "(Intercept)        Test1        Test2        Test4  \n",
       "     90.733       -1.965       -1.649        3.789  \n"
      ]
     },
     "metadata": {},
     "output_type": "display_data"
    }
   ],
   "source": [
    "step(FitAll, direction = 'backward')"
   ]
  },
  {
   "cell_type": "markdown",
   "id": "b3186382-42af-4a0d-90d3-034ff882c1d5",
   "metadata": {},
   "source": [
    "#### Final Model"
   ]
  },
  {
   "cell_type": "code",
   "execution_count": null,
   "id": "d9f4eb01-424c-453f-a65a-40f8714c04ea",
   "metadata": {
    "vscode": {
     "languageId": "r"
    }
   },
   "outputs": [
    {
     "data": {
      "text/plain": [
       "\n",
       "Call:\n",
       "lm(formula = IQ ~ Test1 + Test2 + Test4, data = IQ)\n",
       "\n",
       "Residuals:\n",
       "     Min       1Q   Median       3Q      Max \n",
       "-10.9184  -6.8179  -0.9142   4.3920  21.1950 \n",
       "\n",
       "Coefficients:\n",
       "            Estimate Std. Error t value Pr(>|t|)    \n",
       "(Intercept)  90.7327    12.8272   7.073 2.06e-05 ***\n",
       "Test1        -1.9650     0.9406  -2.089   0.0607 .  \n",
       "Test2        -1.6485     0.7980  -2.066   0.0632 .  \n",
       "Test4         3.7890     1.6801   2.255   0.0455 *  \n",
       "---\n",
       "Signif. codes:  0 ‘***’ 0.001 ‘**’ 0.01 ‘*’ 0.05 ‘.’ 0.1 ‘ ’ 1\n",
       "\n",
       "Residual standard error: 9.756 on 11 degrees of freedom\n",
       "Multiple R-squared:  0.3839,\tAdjusted R-squared:  0.2158 \n",
       "F-statistic: 2.284 on 3 and 11 DF,  p-value: 0.1356\n"
      ]
     },
     "metadata": {},
     "output_type": "display_data"
    }
   ],
   "source": [
    "Fitsome <- lm(formula = IQ ~ Test1 + Test2 + Test4, data = IQ)\n",
    "summary(Fitsome)"
   ]
  },
  {
   "cell_type": "markdown",
   "id": "730bb001-930f-4c5b-87c0-832095f72cb8",
   "metadata": {},
   "source": [
    "#### The model with Test 1,2,and 4 is best becasue itg has the lowest ACI of 71.69.\n",
    "#### From this model the adjusted R2 value is 0.2158, The adjustment is a modification that is supposed to take into account the number of terms in the model."
   ]
  },
  {
   "cell_type": "markdown",
   "id": "9b27f57a-bcd8-4625-b060-f54981380da6",
   "metadata": {},
   "source": [
    "### Part II: Compare Stepwise Regression Types"
   ]
  },
  {
   "cell_type": "markdown",
   "id": "96299663-8f0e-45b7-98b9-5018536fc985",
   "metadata": {},
   "source": [
    "#### Load Data"
   ]
  },
  {
   "cell_type": "code",
   "execution_count": null,
   "id": "e2cf15ae-b362-47a1-b14c-9f4fd0b6de3e",
   "metadata": {
    "vscode": {
     "languageId": "r"
    }
   },
   "outputs": [],
   "source": [
    "stepwiseRegression <- read.csv(\"/Users/kenyashiafernandez/Desktop/Data-Science-Program/DATASETS/stepwiseRegression.csv\")"
   ]
  },
  {
   "cell_type": "code",
   "execution_count": null,
   "id": "cce76d4c-8112-49de-ab54-e7862aa4e1a3",
   "metadata": {
    "vscode": {
     "languageId": "r"
    }
   },
   "outputs": [
    {
     "data": {
      "text/html": [
       "<table class=\"dataframe\">\n",
       "<caption>A data.frame: 6 × 13</caption>\n",
       "<thead>\n",
       "\t<tr><th></th><th scope=col>Y</th><th scope=col>X1</th><th scope=col>X2</th><th scope=col>X3</th><th scope=col>X4</th><th scope=col>X5</th><th scope=col>X6</th><th scope=col>X7</th><th scope=col>X8</th><th scope=col>X9</th><th scope=col>X10</th><th scope=col>X11</th><th scope=col>X12</th></tr>\n",
       "\t<tr><th></th><th scope=col>&lt;dbl&gt;</th><th scope=col>&lt;dbl&gt;</th><th scope=col>&lt;dbl&gt;</th><th scope=col>&lt;dbl&gt;</th><th scope=col>&lt;dbl&gt;</th><th scope=col>&lt;dbl&gt;</th><th scope=col>&lt;dbl&gt;</th><th scope=col>&lt;dbl&gt;</th><th scope=col>&lt;dbl&gt;</th><th scope=col>&lt;dbl&gt;</th><th scope=col>&lt;dbl&gt;</th><th scope=col>&lt;dbl&gt;</th><th scope=col>&lt;dbl&gt;</th></tr>\n",
       "</thead>\n",
       "<tbody>\n",
       "\t<tr><th scope=row>1</th><td>443.87</td><td>74.4</td><td>-20.9</td><td>29.9</td><td> -9.1</td><td>-2.3</td><td> -0.3</td><td>43.3</td><td> -5.9</td><td>25.7</td><td>72.6</td><td>-40.3</td><td> 2.9</td></tr>\n",
       "\t<tr><th scope=row>2</th><td>134.11</td><td>75.8</td><td>-16.9</td><td>33.1</td><td>-65.6</td><td> 0.4</td><td>-29.2</td><td>49.6</td><td> -1.3</td><td>11.7</td><td>71.5</td><td>-37.3</td><td> 2.7</td></tr>\n",
       "\t<tr><th scope=row>3</th><td>619.19</td><td>52.2</td><td>-16.9</td><td>30.8</td><td>-57.4</td><td> 0.5</td><td> 34.4</td><td>69.9</td><td> -5.1</td><td>17.9</td><td>73.8</td><td>-43.7</td><td>-1.6</td></tr>\n",
       "\t<tr><th scope=row>4</th><td>465.01</td><td>25.8</td><td>-23.5</td><td>32.4</td><td>-52.5</td><td>-1.0</td><td>  4.0</td><td>52.1</td><td> -9.5</td><td>11.9</td><td>72.2</td><td>-43.7</td><td>-1.3</td></tr>\n",
       "\t<tr><th scope=row>5</th><td>609.92</td><td>52.8</td><td> -7.6</td><td>33.5</td><td>-34.3</td><td>-0.6</td><td> 33.0</td><td>49.2</td><td> -1.8</td><td>33.5</td><td>74.9</td><td>-40.4</td><td> 0.5</td></tr>\n",
       "\t<tr><th scope=row>6</th><td>275.96</td><td>73.2</td><td>-10.9</td><td>27.6</td><td>-56.2</td><td>-1.6</td><td> -7.0</td><td>88.8</td><td>-16.6</td><td>26.4</td><td>74.0</td><td>-41.4</td><td> 2.0</td></tr>\n",
       "</tbody>\n",
       "</table>\n"
      ],
      "text/latex": [
       "A data.frame: 6 × 13\n",
       "\\begin{tabular}{r|lllllllllllll}\n",
       "  & Y & X1 & X2 & X3 & X4 & X5 & X6 & X7 & X8 & X9 & X10 & X11 & X12\\\\\n",
       "  & <dbl> & <dbl> & <dbl> & <dbl> & <dbl> & <dbl> & <dbl> & <dbl> & <dbl> & <dbl> & <dbl> & <dbl> & <dbl>\\\\\n",
       "\\hline\n",
       "\t1 & 443.87 & 74.4 & -20.9 & 29.9 &  -9.1 & -2.3 &  -0.3 & 43.3 &  -5.9 & 25.7 & 72.6 & -40.3 &  2.9\\\\\n",
       "\t2 & 134.11 & 75.8 & -16.9 & 33.1 & -65.6 &  0.4 & -29.2 & 49.6 &  -1.3 & 11.7 & 71.5 & -37.3 &  2.7\\\\\n",
       "\t3 & 619.19 & 52.2 & -16.9 & 30.8 & -57.4 &  0.5 &  34.4 & 69.9 &  -5.1 & 17.9 & 73.8 & -43.7 & -1.6\\\\\n",
       "\t4 & 465.01 & 25.8 & -23.5 & 32.4 & -52.5 & -1.0 &   4.0 & 52.1 &  -9.5 & 11.9 & 72.2 & -43.7 & -1.3\\\\\n",
       "\t5 & 609.92 & 52.8 &  -7.6 & 33.5 & -34.3 & -0.6 &  33.0 & 49.2 &  -1.8 & 33.5 & 74.9 & -40.4 &  0.5\\\\\n",
       "\t6 & 275.96 & 73.2 & -10.9 & 27.6 & -56.2 & -1.6 &  -7.0 & 88.8 & -16.6 & 26.4 & 74.0 & -41.4 &  2.0\\\\\n",
       "\\end{tabular}\n"
      ],
      "text/markdown": [
       "\n",
       "A data.frame: 6 × 13\n",
       "\n",
       "| <!--/--> | Y &lt;dbl&gt; | X1 &lt;dbl&gt; | X2 &lt;dbl&gt; | X3 &lt;dbl&gt; | X4 &lt;dbl&gt; | X5 &lt;dbl&gt; | X6 &lt;dbl&gt; | X7 &lt;dbl&gt; | X8 &lt;dbl&gt; | X9 &lt;dbl&gt; | X10 &lt;dbl&gt; | X11 &lt;dbl&gt; | X12 &lt;dbl&gt; |\n",
       "|---|---|---|---|---|---|---|---|---|---|---|---|---|---|\n",
       "| 1 | 443.87 | 74.4 | -20.9 | 29.9 |  -9.1 | -2.3 |  -0.3 | 43.3 |  -5.9 | 25.7 | 72.6 | -40.3 |  2.9 |\n",
       "| 2 | 134.11 | 75.8 | -16.9 | 33.1 | -65.6 |  0.4 | -29.2 | 49.6 |  -1.3 | 11.7 | 71.5 | -37.3 |  2.7 |\n",
       "| 3 | 619.19 | 52.2 | -16.9 | 30.8 | -57.4 |  0.5 |  34.4 | 69.9 |  -5.1 | 17.9 | 73.8 | -43.7 | -1.6 |\n",
       "| 4 | 465.01 | 25.8 | -23.5 | 32.4 | -52.5 | -1.0 |   4.0 | 52.1 |  -9.5 | 11.9 | 72.2 | -43.7 | -1.3 |\n",
       "| 5 | 609.92 | 52.8 |  -7.6 | 33.5 | -34.3 | -0.6 |  33.0 | 49.2 |  -1.8 | 33.5 | 74.9 | -40.4 |  0.5 |\n",
       "| 6 | 275.96 | 73.2 | -10.9 | 27.6 | -56.2 | -1.6 |  -7.0 | 88.8 | -16.6 | 26.4 | 74.0 | -41.4 |  2.0 |\n",
       "\n"
      ],
      "text/plain": [
       "  Y      X1   X2    X3   X4    X5   X6    X7   X8    X9   X10  X11   X12 \n",
       "1 443.87 74.4 -20.9 29.9  -9.1 -2.3  -0.3 43.3  -5.9 25.7 72.6 -40.3  2.9\n",
       "2 134.11 75.8 -16.9 33.1 -65.6  0.4 -29.2 49.6  -1.3 11.7 71.5 -37.3  2.7\n",
       "3 619.19 52.2 -16.9 30.8 -57.4  0.5  34.4 69.9  -5.1 17.9 73.8 -43.7 -1.6\n",
       "4 465.01 25.8 -23.5 32.4 -52.5 -1.0   4.0 52.1  -9.5 11.9 72.2 -43.7 -1.3\n",
       "5 609.92 52.8  -7.6 33.5 -34.3 -0.6  33.0 49.2  -1.8 33.5 74.9 -40.4  0.5\n",
       "6 275.96 73.2 -10.9 27.6 -56.2 -1.6  -7.0 88.8 -16.6 26.4 74.0 -41.4  2.0"
      ]
     },
     "metadata": {},
     "output_type": "display_data"
    }
   ],
   "source": [
    "head(stepwiseRegression)"
   ]
  },
  {
   "cell_type": "markdown",
   "id": "91594c8f-5384-4a9a-907d-c5b62a0f3cfd",
   "metadata": {},
   "source": [
    "#### Backward elimination method"
   ]
  },
  {
   "cell_type": "code",
   "execution_count": null,
   "id": "c3fd9420-3246-46e7-a15c-97206524a24e",
   "metadata": {
    "vscode": {
     "languageId": "r"
    }
   },
   "outputs": [
    {
     "data": {
      "text/plain": [
       "       Y                X1              X2               X3       \n",
       " Min.   :-53.64   Min.   :25.80   Min.   :-27.60   Min.   :26.60  \n",
       " 1st Qu.:298.57   1st Qu.:47.48   1st Qu.:-21.73   1st Qu.:30.40  \n",
       " Median :422.19   Median :53.65   Median :-18.55   Median :32.10  \n",
       " Mean   :427.61   Mean   :54.75   Mean   :-18.15   Mean   :31.97  \n",
       " 3rd Qu.:565.85   3rd Qu.:62.52   3rd Qu.:-15.18   3rd Qu.:33.35  \n",
       " Max.   :947.45   Max.   :80.90   Max.   : -4.90   Max.   :38.00  \n",
       "       X4               X5                   X6                X7        \n",
       " Min.   :-93.40   Min.   :-2.6000000   Min.   :-69.100   Min.   :-14.40  \n",
       " 1st Qu.:-65.53   1st Qu.:-0.5250000   1st Qu.:-16.550   1st Qu.: 38.52  \n",
       " Median :-51.15   Median : 0.0000000   Median :  2.900   Median : 50.30  \n",
       " Mean   :-49.85   Mean   :-0.0007813   Mean   :  3.491   Mean   : 48.52  \n",
       " 3rd Qu.:-35.02   3rd Qu.: 0.6250000   3rd Qu.: 25.100   3rd Qu.: 64.12  \n",
       " Max.   :  3.00   Max.   : 3.1000000   Max.   : 70.400   Max.   : 90.00  \n",
       "       X8                X9            X10             X11        \n",
       " Min.   :-18.400   Min.   :11.4   Min.   :71.00   Min.   :-45.00  \n",
       " 1st Qu.: -8.125   1st Qu.:17.3   1st Qu.:72.20   1st Qu.:-42.60  \n",
       " Median : -3.450   Median :23.2   Median :73.10   Median :-40.65  \n",
       " Mean   : -3.614   Mean   :23.3   Mean   :73.08   Mean   :-40.82  \n",
       " 3rd Qu.:  0.825   3rd Qu.:29.7   3rd Qu.:74.10   3rd Qu.:-39.08  \n",
       " Max.   : 12.200   Max.   :35.6   Max.   :75.00   Max.   :-37.10  \n",
       "      X12         \n",
       " Min.   :-3.0000  \n",
       " 1st Qu.:-1.6000  \n",
       " Median :-0.4000  \n",
       " Mean   :-0.2008  \n",
       " 3rd Qu.: 1.1250  \n",
       " Max.   : 3.0000  "
      ]
     },
     "metadata": {},
     "output_type": "display_data"
    }
   ],
   "source": [
    "FitAll = lm(Y ~ ., data = stepwiseRegression)\n",
    "summary(stepwiseRegression)"
   ]
  },
  {
   "cell_type": "code",
   "execution_count": null,
   "id": "ef532b81-35ab-464b-81ad-cfa200757c16",
   "metadata": {
    "vscode": {
     "languageId": "r"
    }
   },
   "outputs": [
    {
     "name": "stdout",
     "output_type": "stream",
     "text": [
      "Start:  AIC=220.74\n",
      "Y ~ X1 + X2 + X3 + X4 + X5 + X6 + X7 + X8 + X9 + X10 + X11 + \n",
      "    X12\n",
      "\n",
      "       Df Sum of Sq     RSS     AIC\n",
      "- X1    1         2     588  219.07\n",
      "- X9    1         2     588  219.11\n",
      "- X8    1         4     590  219.61\n",
      "- X3    1         5     591  219.87\n",
      "- X5    1         5     591  219.88\n",
      "- X7    1         6     592  220.13\n",
      "<none>                  586  220.74\n",
      "- X11   1        13     599  221.53\n",
      "- X2    1        16     602  222.14\n",
      "- X10   1     20422   21008  676.88\n",
      "- X12   1    239478  240064  988.69\n",
      "- X4    1    411780  412366 1057.94\n",
      "- X6    1   3197390 3197977 1320.13\n",
      "\n",
      "Step:  AIC=219.07\n",
      "Y ~ X2 + X3 + X4 + X5 + X6 + X7 + X8 + X9 + X10 + X11 + X12\n",
      "\n",
      "       Df Sum of Sq     RSS     AIC\n",
      "- X9    1         2     590  217.53\n",
      "- X8    1         4     591  217.88\n",
      "- X3    1         5     592  218.11\n",
      "- X5    1         5     593  218.15\n",
      "- X7    1         6     593  218.32\n",
      "<none>                  588  219.07\n",
      "- X11   1        13     600  219.81\n",
      "- X2    1        15     602  220.21\n",
      "- X10   1     22005   22593  684.19\n",
      "- X12   1    239741  240329  986.83\n",
      "- X4    1    416122  416709 1057.28\n",
      "- X6    1   3197423 3198011 1318.13\n",
      "\n",
      "Step:  AIC=217.53\n",
      "Y ~ X2 + X3 + X4 + X5 + X6 + X7 + X8 + X10 + X11 + X12\n",
      "\n",
      "       Df Sum of Sq     RSS     AIC\n",
      "- X8    1         3     593  216.25\n",
      "- X3    1         5     594  216.53\n",
      "- X5    1         5     594  216.55\n",
      "- X7    1         7     597  217.10\n",
      "<none>                  590  217.53\n",
      "- X11   1        12     602  218.10\n",
      "- X2    1        14     603  218.49\n",
      "- X10   1     22475   23065  684.84\n",
      "- X12   1    240461  241051  985.21\n",
      "- X4    1    431890  432480 1060.03\n",
      "- X6    1   3209316 3209906 1316.60\n",
      "\n",
      "Step:  AIC=216.25\n",
      "Y ~ X2 + X3 + X4 + X5 + X6 + X7 + X10 + X11 + X12\n",
      "\n",
      "       Df Sum of Sq     RSS     AIC\n",
      "- X5    1         4     597  215.19\n",
      "- X3    1         4     598  215.22\n",
      "- X7    1         6     600  215.64\n",
      "<none>                  593  216.25\n",
      "- X11   1        11     604  216.55\n",
      "- X2    1        15     608  217.42\n",
      "- X10   1     22513   23106  683.06\n",
      "- X12   1    243005  243598  984.56\n",
      "- X4    1    435329  435922 1059.05\n",
      "- X6    1   3219797 3220390 1315.02\n",
      "\n",
      "Step:  AIC=215.19\n",
      "Y ~ X2 + X3 + X4 + X6 + X7 + X10 + X11 + X12\n",
      "\n",
      "       Df Sum of Sq     RSS     AIC\n",
      "- X3    1         4     602  214.11\n",
      "- X7    1         7     604  214.69\n",
      "<none>                  597  215.19\n",
      "- X11   1        11     609  215.55\n",
      "- X2    1        16     614  216.60\n",
      "- X10   1     23264   23861  685.18\n",
      "- X12   1    246760  247357  984.52\n",
      "- X4    1    436921  437518 1057.52\n",
      "- X6    1   3248186 3248783 1314.15\n",
      "\n",
      "Step:  AIC=214.11\n",
      "Y ~ X2 + X4 + X6 + X7 + X10 + X11 + X12\n",
      "\n",
      "       Df Sum of Sq     RSS     AIC\n",
      "- X7    1         6     608  213.38\n",
      "<none>                  602  214.11\n",
      "- X11   1        12     614  214.63\n",
      "- X2    1        15     617  215.36\n",
      "- X10   1     23262   23864  683.19\n",
      "- X12   1    246934  247535  982.61\n",
      "- X4    1    444941  445543 1057.84\n",
      "- X6    1   3254016 3254618 1312.38\n",
      "\n",
      "Step:  AIC=213.38\n",
      "Y ~ X2 + X4 + X6 + X10 + X11 + X12\n",
      "\n",
      "       Df Sum of Sq     RSS     AIC\n",
      "<none>                  608  213.38\n",
      "- X11   1        11     618  213.63\n",
      "- X2    1        14     622  214.33\n",
      "- X10   1     23753   24360  683.83\n",
      "- X12   1    247389  247996  980.85\n",
      "- X4    1    444955  445563 1055.85\n",
      "- X6    1   3278411 3279019 1311.33\n"
     ]
    },
    {
     "data": {
      "text/plain": [
       "\n",
       "Call:\n",
       "lm(formula = Y ~ X2 + X4 + X6 + X10 + X11 + X12, data = stepwiseRegression)\n",
       "\n",
       "Coefficients:\n",
       "(Intercept)           X2           X4           X6          X10          X11  \n",
       " 1410.27177     -0.06975      2.80806      5.98660    -11.97829     -0.13102  \n",
       "        X12  \n",
       "  -25.98121  \n"
      ]
     },
     "metadata": {},
     "output_type": "display_data"
    }
   ],
   "source": [
    "step(FitAll, direction = 'backward' , scope = formula(FitAll))"
   ]
  },
  {
   "cell_type": "code",
   "execution_count": null,
   "id": "85dec384-6c6f-4ca4-bf97-f2c6f12b0ae6",
   "metadata": {
    "vscode": {
     "languageId": "r"
    }
   },
   "outputs": [
    {
     "data": {
      "text/plain": [
       "\n",
       "Call:\n",
       "lm(formula = Y ~ X2 + X4 + X6 + X10 + X11 + X12, data = stepwiseRegression)\n",
       "\n",
       "Residuals:\n",
       "    Min      1Q  Median      3Q     Max \n",
       "-5.3190 -1.7438 -0.0897  1.7094  5.3882 \n",
       "\n",
       "Coefficients:\n",
       "              Estimate Std. Error  t value Pr(>|t|)    \n",
       "(Intercept)  1.410e+03  1.320e+01  106.815   <2e-16 ***\n",
       "X2          -6.975e-02  4.158e-02   -1.677   0.0961 .  \n",
       "X4           2.808e+00  9.434e-03  297.644   <2e-16 ***\n",
       "X6           5.987e+00  7.410e-03  807.924   <2e-16 ***\n",
       "X10         -1.198e+01  1.742e-01  -68.769   <2e-16 ***\n",
       "X11         -1.310e-01  8.950e-02   -1.464   0.1458    \n",
       "X12         -2.598e+01  1.171e-01 -221.937   <2e-16 ***\n",
       "---\n",
       "Signif. codes:  0 ‘***’ 0.001 ‘**’ 0.01 ‘*’ 0.05 ‘.’ 0.1 ‘ ’ 1\n",
       "\n",
       "Residual standard error: 2.241 on 121 degrees of freedom\n",
       "Multiple R-squared:  0.9999,\tAdjusted R-squared:  0.9998 \n",
       "F-statistic: 1.385e+05 on 6 and 121 DF,  p-value: < 2.2e-16\n"
      ]
     },
     "metadata": {},
     "output_type": "display_data"
    }
   ],
   "source": [
    "Fitsome <- lm(formula = Y ~ X2 + X4 + X6 + X10 + X11 + X12, data = stepwiseRegression)\n",
    "summary(Fitsome)"
   ]
  },
  {
   "cell_type": "markdown",
   "id": "4716284a-17ef-4849-a87b-84bc843fcd4b",
   "metadata": {},
   "source": [
    "#### Forward Selection"
   ]
  },
  {
   "cell_type": "code",
   "execution_count": null,
   "id": "fa264041-6758-428e-9860-5571dce5d8f2",
   "metadata": {
    "vscode": {
     "languageId": "r"
    }
   },
   "outputs": [
    {
     "data": {
      "text/plain": [
       "\n",
       "Call:\n",
       "lm(formula = Y ~ 1, data = stepwiseRegression)\n",
       "\n",
       "Residuals:\n",
       "    Min      1Q  Median      3Q     Max \n",
       "-481.25 -129.04   -5.43  138.24  519.84 \n",
       "\n",
       "Coefficients:\n",
       "            Estimate Std. Error t value Pr(>|t|)    \n",
       "(Intercept)   427.61      16.03   26.68   <2e-16 ***\n",
       "---\n",
       "Signif. codes:  0 ‘***’ 0.001 ‘**’ 0.01 ‘*’ 0.05 ‘.’ 0.1 ‘ ’ 1\n",
       "\n",
       "Residual standard error: 181.3 on 127 degrees of freedom\n"
      ]
     },
     "metadata": {},
     "output_type": "display_data"
    }
   ],
   "source": [
    "fitstart = lm(Y ~ 1, data = stepwiseRegression)\n",
    "summary(fitstart)"
   ]
  },
  {
   "cell_type": "code",
   "execution_count": null,
   "id": "fe207c8f-ea02-4c39-b7d0-888210a7cd4e",
   "metadata": {
    "vscode": {
     "languageId": "r"
    }
   },
   "outputs": [
    {
     "name": "stdout",
     "output_type": "stream",
     "text": [
      "Start:  AIC=1332.26\n",
      "Y ~ 1\n",
      "\n",
      "       Df Sum of Sq     RSS    AIC\n",
      "+ X6    1   3312523  862636 1132.4\n",
      "+ X12   1    565679 3609480 1315.6\n",
      "+ X4    1    340596 3834563 1323.4\n",
      "+ X2    1     88438 4086721 1331.5\n",
      "+ X5    1     77171 4097988 1331.9\n",
      "<none>              4175159 1332.3\n",
      "+ X9    1     39558 4135601 1333.0\n",
      "+ X7    1     39324 4135835 1333.0\n",
      "+ X1    1     15448 4159711 1333.8\n",
      "+ X3    1     10545 4164613 1333.9\n",
      "+ X10   1     10472 4164687 1333.9\n",
      "+ X11   1      4176 4170982 1334.1\n",
      "+ X8    1       741 4174418 1334.2\n",
      "\n",
      "Step:  AIC=1132.41\n",
      "Y ~ X6\n",
      "\n",
      "       Df Sum of Sq    RSS     AIC\n",
      "+ X4    1    584861 277775  989.36\n",
      "+ X12   1    392692 469944 1056.67\n",
      "+ X10   1     29736 832900 1129.92\n",
      "+ X8    1     14958 847678 1132.17\n",
      "<none>              862636 1132.41\n",
      "+ X3    1      9152 853483 1133.05\n",
      "+ X9    1      5341 857295 1133.62\n",
      "+ X11   1      5119 857517 1133.65\n",
      "+ X2    1       904 861732 1134.28\n",
      "+ X1    1       378 862258 1134.36\n",
      "+ X5    1        63 862573 1134.40\n",
      "+ X7    1        36 862600 1134.41\n",
      "\n",
      "Step:  AIC=989.36\n",
      "Y ~ X6 + X4\n",
      "\n",
      "       Df Sum of Sq    RSS    AIC\n",
      "+ X12   1    253398  24377 679.92\n",
      "+ X10   1     29109 248666 977.20\n",
      "<none>              277775 989.36\n",
      "+ X9    1      3191 274584 989.89\n",
      "+ X1    1      2837 274937 990.05\n",
      "+ X8    1      1778 275997 990.54\n",
      "+ X5    1      1133 276641 990.84\n",
      "+ X11   1       716 277059 991.03\n",
      "+ X3    1        59 277716 991.34\n",
      "+ X7    1         6 277769 991.36\n",
      "+ X2    1         2 277773 991.36\n",
      "\n",
      "Step:  AIC=679.92\n",
      "Y ~ X6 + X4 + X12\n",
      "\n",
      "       Df Sum of Sq     RSS    AIC\n",
      "+ X10   1   23743.9   632.6 214.51\n",
      "+ X1    1    1773.3 22603.2 672.25\n",
      "+ X5    1     833.8 23542.7 677.46\n",
      "+ X9    1     618.9 23757.6 678.62\n",
      "+ X7    1     496.2 23880.3 679.28\n",
      "<none>              24376.5 679.92\n",
      "+ X3    1      13.4 24363.1 681.85\n",
      "+ X2    1      12.5 24364.1 681.85\n",
      "+ X8    1       7.8 24368.7 681.88\n",
      "+ X11   1       3.9 24372.7 681.90\n",
      "\n",
      "Step:  AIC=214.51\n",
      "Y ~ X6 + X4 + X12 + X10\n",
      "\n",
      "       Df Sum of Sq    RSS    AIC\n",
      "+ X2    1   14.0691 618.49 213.63\n",
      "+ X11   1   10.7026 621.86 214.33\n",
      "<none>              632.56 214.51\n",
      "+ X5    1    6.2628 626.30 215.24\n",
      "+ X7    1    3.6564 628.90 215.77\n",
      "+ X3    1    3.5245 629.03 215.80\n",
      "+ X8    1    1.9282 630.63 216.12\n",
      "+ X9    1    0.9072 631.65 216.33\n",
      "+ X1    1    0.0021 632.56 216.51\n",
      "\n",
      "Step:  AIC=213.63\n",
      "Y ~ X6 + X4 + X12 + X10 + X2\n",
      "\n",
      "       Df Sum of Sq    RSS    AIC\n",
      "+ X11   1   10.7647 607.73 213.38\n",
      "<none>              618.49 213.63\n",
      "+ X5    1    5.0482 613.44 214.58\n",
      "+ X7    1    4.8165 613.67 214.63\n",
      "+ X3    1    4.0701 614.42 214.79\n",
      "+ X9    1    1.7577 616.73 215.27\n",
      "+ X8    1    1.2276 617.26 215.38\n",
      "+ X1    1    0.5054 617.98 215.53\n",
      "\n",
      "Step:  AIC=213.38\n",
      "Y ~ X6 + X4 + X12 + X10 + X2 + X11\n",
      "\n",
      "       Df Sum of Sq    RSS    AIC\n",
      "<none>              607.73 213.38\n",
      "+ X7    1    6.0187 601.71 214.11\n",
      "+ X5    1    4.7325 602.99 214.38\n",
      "+ X3    1    3.2840 604.44 214.69\n",
      "+ X9    1    2.6094 605.12 214.83\n",
      "+ X8    1    2.1408 605.58 214.93\n",
      "+ X1    1    0.6137 607.11 215.25\n"
     ]
    },
    {
     "data": {
      "text/plain": [
       "\n",
       "Call:\n",
       "lm(formula = Y ~ X6 + X4 + X12 + X10 + X2 + X11, data = stepwiseRegression)\n",
       "\n",
       "Coefficients:\n",
       "(Intercept)           X6           X4          X12          X10           X2  \n",
       " 1410.27177      5.98660      2.80806    -25.98121    -11.97829     -0.06975  \n",
       "        X11  \n",
       "   -0.13102  \n"
      ]
     },
     "metadata": {},
     "output_type": "display_data"
    }
   ],
   "source": [
    "step(fitstart, direction = 'forward', scope = (formula(FitAll)))"
   ]
  },
  {
   "cell_type": "markdown",
   "id": "a202dde3-6dee-4e15-9c05-3e817aeea883",
   "metadata": {},
   "source": [
    "#### Final Model"
   ]
  },
  {
   "cell_type": "code",
   "execution_count": null,
   "id": "54981be0-651e-4f65-9cf8-4e2399c6c80a",
   "metadata": {
    "vscode": {
     "languageId": "r"
    }
   },
   "outputs": [
    {
     "data": {
      "text/plain": [
       "\n",
       "Call:\n",
       "lm(formula = Y ~ X6 + X4 + X12 + X10 + X2 + X11, data = stepwiseRegression)\n",
       "\n",
       "Residuals:\n",
       "    Min      1Q  Median      3Q     Max \n",
       "-5.3190 -1.7438 -0.0897  1.7094  5.3882 \n",
       "\n",
       "Coefficients:\n",
       "              Estimate Std. Error  t value Pr(>|t|)    \n",
       "(Intercept)  1.410e+03  1.320e+01  106.815   <2e-16 ***\n",
       "X6           5.987e+00  7.410e-03  807.924   <2e-16 ***\n",
       "X4           2.808e+00  9.434e-03  297.644   <2e-16 ***\n",
       "X12         -2.598e+01  1.171e-01 -221.937   <2e-16 ***\n",
       "X10         -1.198e+01  1.742e-01  -68.769   <2e-16 ***\n",
       "X2          -6.975e-02  4.158e-02   -1.677   0.0961 .  \n",
       "X11         -1.310e-01  8.950e-02   -1.464   0.1458    \n",
       "---\n",
       "Signif. codes:  0 ‘***’ 0.001 ‘**’ 0.01 ‘*’ 0.05 ‘.’ 0.1 ‘ ’ 1\n",
       "\n",
       "Residual standard error: 2.241 on 121 degrees of freedom\n",
       "Multiple R-squared:  0.9999,\tAdjusted R-squared:  0.9998 \n",
       "F-statistic: 1.385e+05 on 6 and 121 DF,  p-value: < 2.2e-16\n"
      ]
     },
     "metadata": {},
     "output_type": "display_data"
    }
   ],
   "source": [
    "fitsome = lm(formula = Y ~ X6 + X4 + X12 + X10 + X2 + X11, data = stepwiseRegression)\n",
    "\n",
    "summary(fitsome)"
   ]
  },
  {
   "cell_type": "markdown",
   "id": "360f10e0-b394-4fe3-908d-7a59fb5faf17",
   "metadata": {},
   "source": [
    "#### Hybrid Stepwise - Forward and Backward Selection"
   ]
  },
  {
   "cell_type": "code",
   "execution_count": null,
   "id": "d80fb391-750e-4683-9adb-02675f84f319",
   "metadata": {
    "vscode": {
     "languageId": "r"
    }
   },
   "outputs": [
    {
     "name": "stdout",
     "output_type": "stream",
     "text": [
      "Start:  AIC=1332.26\n",
      "Y ~ 1\n",
      "\n",
      "       Df Sum of Sq     RSS    AIC\n",
      "+ X6    1   3312523  862636 1132.4\n",
      "+ X12   1    565679 3609480 1315.6\n",
      "+ X4    1    340596 3834563 1323.4\n",
      "+ X2    1     88438 4086721 1331.5\n",
      "+ X5    1     77171 4097988 1331.9\n",
      "<none>              4175159 1332.3\n",
      "+ X9    1     39558 4135601 1333.0\n",
      "+ X7    1     39324 4135835 1333.0\n",
      "+ X1    1     15448 4159711 1333.8\n",
      "+ X3    1     10545 4164613 1333.9\n",
      "+ X10   1     10472 4164687 1333.9\n",
      "+ X11   1      4176 4170982 1334.1\n",
      "+ X8    1       741 4174418 1334.2\n",
      "\n",
      "Step:  AIC=1132.41\n",
      "Y ~ X6\n",
      "\n",
      "       Df Sum of Sq     RSS     AIC\n",
      "+ X4    1    584861  277775  989.36\n",
      "+ X12   1    392692  469944 1056.67\n",
      "+ X10   1     29736  832900 1129.92\n",
      "+ X8    1     14958  847678 1132.17\n",
      "<none>               862636 1132.41\n",
      "+ X3    1      9152  853483 1133.05\n",
      "+ X9    1      5341  857295 1133.62\n",
      "+ X11   1      5119  857517 1133.65\n",
      "+ X2    1       904  861732 1134.28\n",
      "+ X1    1       378  862258 1134.36\n",
      "+ X5    1        63  862573 1134.40\n",
      "+ X7    1        36  862600 1134.41\n",
      "- X6    1   3312523 4175159 1332.26\n",
      "\n",
      "Step:  AIC=989.36\n",
      "Y ~ X6 + X4\n",
      "\n",
      "       Df Sum of Sq     RSS     AIC\n",
      "+ X12   1    253398   24377  679.92\n",
      "+ X10   1     29109  248666  977.20\n",
      "<none>               277775  989.36\n",
      "+ X9    1      3191  274584  989.89\n",
      "+ X1    1      2837  274937  990.05\n",
      "+ X8    1      1778  275997  990.54\n",
      "+ X5    1      1133  276641  990.84\n",
      "+ X11   1       716  277059  991.03\n",
      "+ X3    1        59  277716  991.34\n",
      "+ X7    1         6  277769  991.36\n",
      "+ X2    1         2  277773  991.36\n",
      "- X4    1    584861  862636 1132.41\n",
      "- X6    1   3556788 3834563 1323.36\n",
      "\n",
      "Step:  AIC=679.92\n",
      "Y ~ X6 + X4 + X12\n",
      "\n",
      "       Df Sum of Sq     RSS     AIC\n",
      "+ X10   1     23744     633  214.51\n",
      "+ X1    1      1773   22603  672.25\n",
      "+ X5    1       834   23543  677.46\n",
      "+ X9    1       619   23758  678.62\n",
      "+ X7    1       496   23880  679.28\n",
      "<none>                24377  679.92\n",
      "+ X3    1        13   24363  681.85\n",
      "+ X2    1        12   24364  681.85\n",
      "+ X8    1         8   24369  681.88\n",
      "+ X11   1         4   24373  681.90\n",
      "- X12   1    253398  277775  989.36\n",
      "- X4    1    445568  469944 1056.67\n",
      "- X6    1   3366659 3391035 1309.63\n",
      "\n",
      "Step:  AIC=214.51\n",
      "Y ~ X6 + X4 + X12 + X10\n",
      "\n",
      "       Df Sum of Sq     RSS     AIC\n",
      "+ X2    1        14     618  213.63\n",
      "+ X11   1        11     622  214.33\n",
      "<none>                  633  214.51\n",
      "+ X5    1         6     626  215.24\n",
      "+ X7    1         4     629  215.77\n",
      "+ X3    1         4     629  215.80\n",
      "+ X8    1         2     631  216.12\n",
      "+ X9    1         1     632  216.33\n",
      "+ X1    1         0     633  216.51\n",
      "- X10   1     23744   24377  679.92\n",
      "- X12   1    248034  248666  977.20\n",
      "- X4    1    446238  446871 1052.22\n",
      "- X6    1   3374711 3375344 1311.04\n",
      "\n",
      "Step:  AIC=213.63\n",
      "Y ~ X6 + X4 + X12 + X10 + X2\n",
      "\n",
      "       Df Sum of Sq     RSS     AIC\n",
      "+ X11   1        11     608  213.38\n",
      "<none>                  618  213.63\n",
      "- X2    1        14     633  214.51\n",
      "+ X5    1         5     613  214.58\n",
      "+ X7    1         5     614  214.63\n",
      "+ X3    1         4     614  214.79\n",
      "+ X9    1         2     617  215.27\n",
      "+ X8    1         1     617  215.38\n",
      "+ X1    1         1     618  215.53\n",
      "- X10   1     23746   24364  681.85\n",
      "- X12   1    248002  248620  979.17\n",
      "- X4    1    445781  446399 1054.09\n",
      "- X6    1   3295500 3296118 1310.00\n",
      "\n",
      "Step:  AIC=213.38\n",
      "Y ~ X6 + X4 + X12 + X10 + X2 + X11\n",
      "\n",
      "       Df Sum of Sq     RSS     AIC\n",
      "<none>                  608  213.38\n",
      "- X11   1        11     618  213.63\n",
      "+ X7    1         6     602  214.11\n",
      "- X2    1        14     622  214.33\n",
      "+ X5    1         5     603  214.38\n",
      "+ X3    1         3     604  214.69\n",
      "+ X9    1         3     605  214.83\n",
      "+ X8    1         2     606  214.93\n",
      "+ X1    1         1     607  215.26\n",
      "- X10   1     23753   24360  683.83\n",
      "- X12   1    247389  247996  980.85\n",
      "- X4    1    444955  445563 1055.85\n",
      "- X6    1   3278411 3279019 1311.33\n"
     ]
    },
    {
     "data": {
      "text/plain": [
       "\n",
       "Call:\n",
       "lm(formula = Y ~ X6 + X4 + X12 + X10 + X2 + X11, data = stepwiseRegression)\n",
       "\n",
       "Coefficients:\n",
       "(Intercept)           X6           X4          X12          X10           X2  \n",
       " 1410.27177      5.98660      2.80806    -25.98121    -11.97829     -0.06975  \n",
       "        X11  \n",
       "   -0.13102  \n"
      ]
     },
     "metadata": {},
     "output_type": "display_data"
    }
   ],
   "source": [
    "step(fitstart, direction=\"both\", scope=formula(FitAll))"
   ]
  },
  {
   "cell_type": "markdown",
   "id": "e21ccf09-48b0-4d49-bfbc-40acc7bae5bc",
   "metadata": {},
   "source": [
    "#### Final Model "
   ]
  },
  {
   "cell_type": "code",
   "execution_count": null,
   "id": "fd5ce0f5-4550-4453-88e2-ec4ed6560885",
   "metadata": {
    "vscode": {
     "languageId": "r"
    }
   },
   "outputs": [
    {
     "data": {
      "text/plain": [
       "\n",
       "Call:\n",
       "lm(formula = Y ~ X6 + X4 + X12 + X10 + X2 + X11, data = stepwiseRegression)\n",
       "\n",
       "Residuals:\n",
       "    Min      1Q  Median      3Q     Max \n",
       "-5.3190 -1.7438 -0.0897  1.7094  5.3882 \n",
       "\n",
       "Coefficients:\n",
       "              Estimate Std. Error  t value Pr(>|t|)    \n",
       "(Intercept)  1.410e+03  1.320e+01  106.815   <2e-16 ***\n",
       "X6           5.987e+00  7.410e-03  807.924   <2e-16 ***\n",
       "X4           2.808e+00  9.434e-03  297.644   <2e-16 ***\n",
       "X12         -2.598e+01  1.171e-01 -221.937   <2e-16 ***\n",
       "X10         -1.198e+01  1.742e-01  -68.769   <2e-16 ***\n",
       "X2          -6.975e-02  4.158e-02   -1.677   0.0961 .  \n",
       "X11         -1.310e-01  8.950e-02   -1.464   0.1458    \n",
       "---\n",
       "Signif. codes:  0 ‘***’ 0.001 ‘**’ 0.01 ‘*’ 0.05 ‘.’ 0.1 ‘ ’ 1\n",
       "\n",
       "Residual standard error: 2.241 on 121 degrees of freedom\n",
       "Multiple R-squared:  0.9999,\tAdjusted R-squared:  0.9998 \n",
       "F-statistic: 1.385e+05 on 6 and 121 DF,  p-value: < 2.2e-16\n"
      ]
     },
     "metadata": {},
     "output_type": "display_data"
    }
   ],
   "source": [
    "fitsome1 <- lm(formula = Y ~ X6 + X4 + X12 + X10 + X2 + X11, data = stepwiseRegression)\n",
    "summary(fitsome1)"
   ]
  },
  {
   "cell_type": "markdown",
   "id": "f2979f05-e0c5-49d5-a4c1-5c8200d796f4",
   "metadata": {},
   "source": [
    "#### All final models have an ACI of 213.38 and an adjusted R2 of 0.9998 "
   ]
  },
  {
   "cell_type": "code",
   "execution_count": null,
   "id": "eb4bad99-2cc3-4e5e-a4e4-d468bba7f7bf",
   "metadata": {
    "vscode": {
     "languageId": "r"
    }
   },
   "outputs": [],
   "source": []
  }
 ],
 "metadata": {
  "kernelspec": {
   "display_name": "R",
   "language": "R",
   "name": "ir"
  },
  "language_info": {
   "codemirror_mode": "r",
   "file_extension": ".r",
   "mimetype": "text/x-r-source",
   "name": "R",
   "pygments_lexer": "r",
   "version": "4.1.2"
  }
 },
 "nbformat": 4,
 "nbformat_minor": 5
}
